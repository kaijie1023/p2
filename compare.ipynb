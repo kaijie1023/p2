{
 "cells": [
  {
   "cell_type": "code",
   "execution_count": 1,
   "metadata": {
    "id": "lf_pKNKpRvSO"
   },
   "outputs": [],
   "source": [
    "import timm\n",
    "import torch\n",
    "import torch.nn as nn\n",
    "import torch.optim as optim\n",
    "from torch.utils.data import DataLoader, Subset\n",
    "from torchvision import datasets, transforms\n",
    "from torchvision.models import resnet18, ResNet18_Weights, densenet121, DenseNet121_Weights\n",
    "from torch.optim.lr_scheduler import ReduceLROnPlateau\n",
    "\n",
    "from sklearn.model_selection import StratifiedShuffleSplit\n",
    "import numpy as np\n",
    "import matplotlib.pyplot as plt\n",
    "from tqdm import tqdm\n",
    "\n",
    "from stratified_dataset_splitter import StratifiedDatasetSplitter\n",
    "from early_stopping import EarlyStopping\n",
    "from evaluate_model import evaluate_model, print_evaluation_results\n",
    "from seed import set_global_seed"
   ]
  },
  {
   "cell_type": "code",
   "execution_count": null,
   "metadata": {},
   "outputs": [],
   "source": []
  },
  {
   "cell_type": "code",
   "execution_count": 2,
   "metadata": {
    "id": "SNcyPFZp9SNB"
   },
   "outputs": [],
   "source": [
    "# Configurations\n",
    "device = torch.device(\"cuda\" if torch.cuda.is_available() else \"cpu\")\n",
    "num_classes = 3\n",
    "num_epochs = 100\n",
    "batch_size = 32\n",
    "learning_rate = 5e-5\n",
    "dropout_rate = 0.5\n",
    "weight_decay = 1e-4\n",
    "set_global_seed()"
   ]
  },
  {
   "cell_type": "code",
   "execution_count": 3,
   "metadata": {},
   "outputs": [],
   "source": [
    "resnet = resnet18(weights=ResNet18_Weights.DEFAULT)\n",
    "resnet.fc = nn.Linear(resnet.fc.in_features, num_classes)\n",
    "\n",
    "densenet = densenet121(weights=DenseNet121_Weights.DEFAULT)\n",
    "densenet.classifier = nn.Linear(densenet.classifier.in_features, num_classes)\n",
    "\n",
    "models = {\n",
    "    'resnet': resnet,\n",
    "    'densenet': densenet,\n",
    "    'deit': timm.create_model(\"deit_base_patch16_224\", pretrained=True, num_classes=num_classes),\n",
    "}\n",
    "\n",
    "for model in models.values():\n",
    "    model = model.to(\"cuda\" if torch.cuda.is_available() else \"cpu\")"
   ]
  },
  {
   "cell_type": "code",
   "execution_count": 4,
   "metadata": {},
   "outputs": [],
   "source": [
    "# Split dataset\n",
    "splitter = StratifiedDatasetSplitter(data_dir='MSID3')\n",
    "train_loader, val_loader, test_loader = splitter.create_dataloaders()"
   ]
  },
  {
   "cell_type": "code",
   "execution_count": 5,
   "metadata": {
    "id": "SGFBzLcPBFwE"
   },
   "outputs": [],
   "source": [
    "def evaluate(model, dataloader, criterion):\n",
    "    model.eval()\n",
    "    val_loss = 0.0\n",
    "    correct = 0\n",
    "    total = 0\n",
    "\n",
    "    with torch.no_grad():\n",
    "        for inputs, labels in dataloader:\n",
    "            inputs, labels = inputs.to(device), labels.to(device)\n",
    "            outputs = model(inputs)\n",
    "            loss = criterion(outputs, labels)\n",
    "            val_loss += loss.item()\n",
    "\n",
    "            _, predicted = torch.max(outputs, 1)\n",
    "            total += labels.size(0)\n",
    "            correct += (predicted == labels).sum().item()\n",
    "\n",
    "    val_loss /= len(dataloader)\n",
    "    accuracy = 100 * correct / total\n",
    "    return val_loss, accuracy\n"
   ]
  },
  {
   "cell_type": "code",
   "execution_count": 6,
   "metadata": {
    "id": "t0rRKeT7SXKM"
   },
   "outputs": [],
   "source": [
    "# Loss function and optimizer\n",
    "criterion = nn.CrossEntropyLoss()"
   ]
  },
  {
   "cell_type": "code",
   "execution_count": 7,
   "metadata": {
    "colab": {
     "base_uri": "https://localhost:8080/"
    },
    "id": "GTrBNqdvSYWm",
    "outputId": "81f06e11-1b2e-4c5c-a55e-8675931b0e66"
   },
   "outputs": [
    {
     "name": "stdout",
     "output_type": "stream",
     "text": [
      "Training resnet...\n"
     ]
    },
    {
     "name": "stderr",
     "output_type": "stream",
     "text": [
      "Epoch 1/100: 100%|██████████████████████████████████████████████████████████████████████| 16/16 [00:03<00:00,  4.97it/s]\n"
     ]
    },
    {
     "name": "stdout",
     "output_type": "stream",
     "text": [
      "Epoch 1/100, Train Loss: 0.8520, Val Loss: 0.6398, Val Accuracy: 75.00%\n",
      "Last learning rate: [5e-05]\n"
     ]
    },
    {
     "name": "stderr",
     "output_type": "stream",
     "text": [
      "Epoch 2/100: 100%|██████████████████████████████████████████████████████████████████████| 16/16 [00:02<00:00,  6.67it/s]\n"
     ]
    },
    {
     "name": "stdout",
     "output_type": "stream",
     "text": [
      "Epoch 2/100, Train Loss: 0.5150, Val Loss: 0.4666, Val Accuracy: 81.45%\n",
      "Last learning rate: [5e-05]\n"
     ]
    },
    {
     "name": "stderr",
     "output_type": "stream",
     "text": [
      "Epoch 3/100: 100%|██████████████████████████████████████████████████████████████████████| 16/16 [00:02<00:00,  6.61it/s]\n"
     ]
    },
    {
     "name": "stdout",
     "output_type": "stream",
     "text": [
      "Epoch 3/100, Train Loss: 0.4101, Val Loss: 0.3532, Val Accuracy: 88.71%\n",
      "Last learning rate: [5e-05]\n"
     ]
    },
    {
     "name": "stderr",
     "output_type": "stream",
     "text": [
      "Epoch 4/100: 100%|██████████████████████████████████████████████████████████████████████| 16/16 [00:02<00:00,  7.05it/s]\n"
     ]
    },
    {
     "name": "stdout",
     "output_type": "stream",
     "text": [
      "Epoch 4/100, Train Loss: 0.3174, Val Loss: 0.3319, Val Accuracy: 89.52%\n",
      "Last learning rate: [5e-05]\n"
     ]
    },
    {
     "name": "stderr",
     "output_type": "stream",
     "text": [
      "Epoch 5/100: 100%|██████████████████████████████████████████████████████████████████████| 16/16 [00:02<00:00,  6.47it/s]\n"
     ]
    },
    {
     "name": "stdout",
     "output_type": "stream",
     "text": [
      "Epoch 5/100, Train Loss: 0.3029, Val Loss: 0.2953, Val Accuracy: 87.90%\n",
      "Last learning rate: [5e-05]\n"
     ]
    },
    {
     "name": "stderr",
     "output_type": "stream",
     "text": [
      "Epoch 6/100: 100%|██████████████████████████████████████████████████████████████████████| 16/16 [00:02<00:00,  6.48it/s]\n"
     ]
    },
    {
     "name": "stdout",
     "output_type": "stream",
     "text": [
      "Epoch 6/100, Train Loss: 0.2687, Val Loss: 0.2781, Val Accuracy: 91.94%\n",
      "Last learning rate: [5e-05]\n"
     ]
    },
    {
     "name": "stderr",
     "output_type": "stream",
     "text": [
      "Epoch 7/100: 100%|██████████████████████████████████████████████████████████████████████| 16/16 [00:02<00:00,  6.55it/s]\n"
     ]
    },
    {
     "name": "stdout",
     "output_type": "stream",
     "text": [
      "Epoch 7/100, Train Loss: 0.2151, Val Loss: 0.3028, Val Accuracy: 90.32%\n",
      "Last learning rate: [5e-05]\n"
     ]
    },
    {
     "name": "stderr",
     "output_type": "stream",
     "text": [
      "Epoch 8/100: 100%|██████████████████████████████████████████████████████████████████████| 16/16 [00:02<00:00,  6.54it/s]\n"
     ]
    },
    {
     "name": "stdout",
     "output_type": "stream",
     "text": [
      "Epoch 8/100, Train Loss: 0.2272, Val Loss: 0.2818, Val Accuracy: 93.55%\n",
      "Last learning rate: [5e-05]\n"
     ]
    },
    {
     "name": "stderr",
     "output_type": "stream",
     "text": [
      "Epoch 9/100: 100%|██████████████████████████████████████████████████████████████████████| 16/16 [00:02<00:00,  6.86it/s]\n"
     ]
    },
    {
     "name": "stdout",
     "output_type": "stream",
     "text": [
      "Epoch 9/100, Train Loss: 0.1982, Val Loss: 0.3545, Val Accuracy: 90.32%\n",
      "Last learning rate: [5e-05]\n"
     ]
    },
    {
     "name": "stderr",
     "output_type": "stream",
     "text": [
      "Epoch 10/100: 100%|█████████████████████████████████████████████████████████████████████| 16/16 [00:02<00:00,  6.86it/s]\n"
     ]
    },
    {
     "name": "stdout",
     "output_type": "stream",
     "text": [
      "Epoch 10/100, Train Loss: 0.1816, Val Loss: 0.2941, Val Accuracy: 91.13%\n",
      "Last learning rate: [5e-05]\n"
     ]
    },
    {
     "name": "stderr",
     "output_type": "stream",
     "text": [
      "Epoch 11/100: 100%|█████████████████████████████████████████████████████████████████████| 16/16 [00:02<00:00,  6.84it/s]\n"
     ]
    },
    {
     "name": "stdout",
     "output_type": "stream",
     "text": [
      "Epoch 11/100, Train Loss: 0.1928, Val Loss: 0.2856, Val Accuracy: 89.52%\n",
      "Last learning rate: [5e-05]\n"
     ]
    },
    {
     "name": "stderr",
     "output_type": "stream",
     "text": [
      "Epoch 12/100: 100%|█████████████████████████████████████████████████████████████████████| 16/16 [00:02<00:00,  6.71it/s]\n"
     ]
    },
    {
     "name": "stdout",
     "output_type": "stream",
     "text": [
      "Epoch 12/100, Train Loss: 0.2025, Val Loss: 0.3753, Val Accuracy: 89.52%\n",
      "Last learning rate: [5e-05]\n"
     ]
    },
    {
     "name": "stderr",
     "output_type": "stream",
     "text": [
      "Epoch 13/100: 100%|█████████████████████████████████████████████████████████████████████| 16/16 [00:02<00:00,  6.61it/s]\n"
     ]
    },
    {
     "name": "stdout",
     "output_type": "stream",
     "text": [
      "Epoch 13/100, Train Loss: 0.1326, Val Loss: 0.3327, Val Accuracy: 91.13%\n",
      "Last learning rate: [5e-06]\n"
     ]
    },
    {
     "name": "stderr",
     "output_type": "stream",
     "text": [
      "Epoch 14/100: 100%|█████████████████████████████████████████████████████████████████████| 16/16 [00:02<00:00,  6.61it/s]\n"
     ]
    },
    {
     "name": "stdout",
     "output_type": "stream",
     "text": [
      "Epoch 14/100, Train Loss: 0.1416, Val Loss: 0.3152, Val Accuracy: 93.55%\n",
      "Last learning rate: [5e-06]\n"
     ]
    },
    {
     "name": "stderr",
     "output_type": "stream",
     "text": [
      "Epoch 15/100: 100%|█████████████████████████████████████████████████████████████████████| 16/16 [00:02<00:00,  6.51it/s]\n"
     ]
    },
    {
     "name": "stdout",
     "output_type": "stream",
     "text": [
      "Epoch 15/100, Train Loss: 0.1461, Val Loss: 0.3100, Val Accuracy: 92.74%\n",
      "Last learning rate: [5e-06]\n"
     ]
    },
    {
     "name": "stderr",
     "output_type": "stream",
     "text": [
      "Epoch 16/100: 100%|█████████████████████████████████████████████████████████████████████| 16/16 [00:02<00:00,  6.49it/s]\n"
     ]
    },
    {
     "name": "stdout",
     "output_type": "stream",
     "text": [
      "Epoch 16/100, Train Loss: 0.1375, Val Loss: 0.2929, Val Accuracy: 92.74%\n",
      "Last learning rate: [5e-06]\n"
     ]
    },
    {
     "name": "stderr",
     "output_type": "stream",
     "text": [
      "Epoch 17/100: 100%|█████████████████████████████████████████████████████████████████████| 16/16 [00:02<00:00,  6.45it/s]\n"
     ]
    },
    {
     "name": "stdout",
     "output_type": "stream",
     "text": [
      "Epoch 17/100, Train Loss: 0.1448, Val Loss: 0.3109, Val Accuracy: 92.74%\n",
      "Last learning rate: [5e-06]\n"
     ]
    },
    {
     "name": "stderr",
     "output_type": "stream",
     "text": [
      "Epoch 18/100: 100%|█████████████████████████████████████████████████████████████████████| 16/16 [00:02<00:00,  6.49it/s]\n"
     ]
    },
    {
     "name": "stdout",
     "output_type": "stream",
     "text": [
      "Epoch 18/100, Train Loss: 0.1472, Val Loss: 0.3074, Val Accuracy: 91.13%\n",
      "Last learning rate: [5e-06]\n"
     ]
    },
    {
     "name": "stderr",
     "output_type": "stream",
     "text": [
      "Epoch 19/100: 100%|█████████████████████████████████████████████████████████████████████| 16/16 [00:02<00:00,  6.23it/s]\n"
     ]
    },
    {
     "name": "stdout",
     "output_type": "stream",
     "text": [
      "Epoch 19/100, Train Loss: 0.1339, Val Loss: 0.3064, Val Accuracy: 92.74%\n",
      "Last learning rate: [5.000000000000001e-07]\n"
     ]
    },
    {
     "name": "stderr",
     "output_type": "stream",
     "text": [
      "Epoch 20/100: 100%|█████████████████████████████████████████████████████████████████████| 16/16 [00:02<00:00,  5.85it/s]\n"
     ]
    },
    {
     "name": "stdout",
     "output_type": "stream",
     "text": [
      "Epoch 20/100, Train Loss: 0.1219, Val Loss: 0.3085, Val Accuracy: 91.94%\n",
      "Last learning rate: [5.000000000000001e-07]\n"
     ]
    },
    {
     "name": "stderr",
     "output_type": "stream",
     "text": [
      "Epoch 21/100: 100%|█████████████████████████████████████████████████████████████████████| 16/16 [00:02<00:00,  6.16it/s]\n"
     ]
    },
    {
     "name": "stdout",
     "output_type": "stream",
     "text": [
      "Epoch 21/100, Train Loss: 0.1277, Val Loss: 0.3252, Val Accuracy: 91.94%\n",
      "Last learning rate: [5.000000000000001e-07]\n",
      "Early stopping triggered.\n",
      "Training complete!\n",
      "Test results for resnet\n",
      "Model Evaluation Metrics:\n",
      "Accuracy: 0.8766\n",
      "Precision: 0.8805\n",
      "Recall: 0.8766\n",
      "F1 Score: 0.8746\n",
      "\n",
      "Confusion Matrix:\n",
      "[58, 0, 0]\n",
      "[4, 44, 8]\n",
      "[4, 3, 33]\n",
      "\n",
      "Detailed Classification Report:\n",
      "0:\n",
      "  precision: 0.8787878787878788\n",
      "  recall: 1.0\n",
      "  f1-score: 0.9354838709677419\n",
      "  support: 58.0\n",
      "1:\n",
      "  precision: 0.9361702127659575\n",
      "  recall: 0.7857142857142857\n",
      "  f1-score: 0.8543689320388349\n",
      "  support: 56.0\n",
      "2:\n",
      "  precision: 0.8048780487804879\n",
      "  recall: 0.825\n",
      "  f1-score: 0.8148148148148148\n",
      "  support: 40.0\n",
      "Training densenet...\n"
     ]
    },
    {
     "name": "stderr",
     "output_type": "stream",
     "text": [
      "Epoch 1/100: 100%|██████████████████████████████████████████████████████████████████████| 16/16 [01:55<00:00,  7.20s/it]\n"
     ]
    },
    {
     "name": "stdout",
     "output_type": "stream",
     "text": [
      "Epoch 1/100, Train Loss: 0.8590, Val Loss: 0.7058, Val Accuracy: 67.74%\n",
      "Last learning rate: [5e-05]\n"
     ]
    },
    {
     "name": "stderr",
     "output_type": "stream",
     "text": [
      "Epoch 2/100: 100%|██████████████████████████████████████████████████████████████████████| 16/16 [00:33<00:00,  2.06s/it]\n"
     ]
    },
    {
     "name": "stdout",
     "output_type": "stream",
     "text": [
      "Epoch 2/100, Train Loss: 0.5752, Val Loss: 0.5596, Val Accuracy: 77.42%\n",
      "Last learning rate: [5e-05]\n"
     ]
    },
    {
     "name": "stderr",
     "output_type": "stream",
     "text": [
      "Epoch 3/100: 100%|██████████████████████████████████████████████████████████████████████| 16/16 [02:49<00:00, 10.59s/it]\n"
     ]
    },
    {
     "name": "stdout",
     "output_type": "stream",
     "text": [
      "Epoch 3/100, Train Loss: 0.4736, Val Loss: 0.4013, Val Accuracy: 86.29%\n",
      "Last learning rate: [5e-05]\n"
     ]
    },
    {
     "name": "stderr",
     "output_type": "stream",
     "text": [
      "Epoch 4/100: 100%|██████████████████████████████████████████████████████████████████████| 16/16 [04:34<00:00, 17.14s/it]\n"
     ]
    },
    {
     "name": "stdout",
     "output_type": "stream",
     "text": [
      "Epoch 4/100, Train Loss: 0.3656, Val Loss: 0.3616, Val Accuracy: 86.29%\n",
      "Last learning rate: [5e-05]\n"
     ]
    },
    {
     "name": "stderr",
     "output_type": "stream",
     "text": [
      "Epoch 5/100: 100%|██████████████████████████████████████████████████████████████████████| 16/16 [01:44<00:00,  6.52s/it]\n"
     ]
    },
    {
     "name": "stdout",
     "output_type": "stream",
     "text": [
      "Epoch 5/100, Train Loss: 0.3229, Val Loss: 0.3257, Val Accuracy: 87.10%\n",
      "Last learning rate: [5e-05]\n"
     ]
    },
    {
     "name": "stderr",
     "output_type": "stream",
     "text": [
      "Epoch 6/100: 100%|██████████████████████████████████████████████████████████████████████| 16/16 [00:05<00:00,  3.16it/s]\n"
     ]
    },
    {
     "name": "stdout",
     "output_type": "stream",
     "text": [
      "Epoch 6/100, Train Loss: 0.2828, Val Loss: 0.2855, Val Accuracy: 90.32%\n",
      "Last learning rate: [5e-05]\n"
     ]
    },
    {
     "name": "stderr",
     "output_type": "stream",
     "text": [
      "Epoch 7/100: 100%|██████████████████████████████████████████████████████████████████████| 16/16 [00:08<00:00,  1.94it/s]\n"
     ]
    },
    {
     "name": "stdout",
     "output_type": "stream",
     "text": [
      "Epoch 7/100, Train Loss: 0.2346, Val Loss: 0.2401, Val Accuracy: 90.32%\n",
      "Last learning rate: [5e-05]\n"
     ]
    },
    {
     "name": "stderr",
     "output_type": "stream",
     "text": [
      "Epoch 8/100: 100%|██████████████████████████████████████████████████████████████████████| 16/16 [00:06<00:00,  2.29it/s]\n"
     ]
    },
    {
     "name": "stdout",
     "output_type": "stream",
     "text": [
      "Epoch 8/100, Train Loss: 0.2384, Val Loss: 0.2339, Val Accuracy: 90.32%\n",
      "Last learning rate: [5e-05]\n"
     ]
    },
    {
     "name": "stderr",
     "output_type": "stream",
     "text": [
      "Epoch 9/100: 100%|██████████████████████████████████████████████████████████████████████| 16/16 [00:06<00:00,  2.30it/s]\n"
     ]
    },
    {
     "name": "stdout",
     "output_type": "stream",
     "text": [
      "Epoch 9/100, Train Loss: 0.2506, Val Loss: 0.2477, Val Accuracy: 91.94%\n",
      "Last learning rate: [5e-05]\n"
     ]
    },
    {
     "name": "stderr",
     "output_type": "stream",
     "text": [
      "Epoch 10/100: 100%|█████████████████████████████████████████████████████████████████████| 16/16 [00:07<00:00,  2.26it/s]\n"
     ]
    },
    {
     "name": "stdout",
     "output_type": "stream",
     "text": [
      "Epoch 10/100, Train Loss: 0.1895, Val Loss: 0.2097, Val Accuracy: 92.74%\n",
      "Last learning rate: [5e-05]\n"
     ]
    },
    {
     "name": "stderr",
     "output_type": "stream",
     "text": [
      "Epoch 11/100: 100%|█████████████████████████████████████████████████████████████████████| 16/16 [00:05<00:00,  3.12it/s]\n"
     ]
    },
    {
     "name": "stdout",
     "output_type": "stream",
     "text": [
      "Epoch 11/100, Train Loss: 0.1701, Val Loss: 0.2069, Val Accuracy: 92.74%\n",
      "Last learning rate: [5e-05]\n"
     ]
    },
    {
     "name": "stderr",
     "output_type": "stream",
     "text": [
      "Epoch 12/100: 100%|█████████████████████████████████████████████████████████████████████| 16/16 [00:05<00:00,  3.08it/s]\n"
     ]
    },
    {
     "name": "stdout",
     "output_type": "stream",
     "text": [
      "Epoch 12/100, Train Loss: 0.1578, Val Loss: 0.1870, Val Accuracy: 91.94%\n",
      "Last learning rate: [5e-05]\n"
     ]
    },
    {
     "name": "stderr",
     "output_type": "stream",
     "text": [
      "Epoch 13/100: 100%|█████████████████████████████████████████████████████████████████████| 16/16 [00:06<00:00,  2.66it/s]\n"
     ]
    },
    {
     "name": "stdout",
     "output_type": "stream",
     "text": [
      "Epoch 13/100, Train Loss: 0.1579, Val Loss: 0.2201, Val Accuracy: 92.74%\n",
      "Last learning rate: [5e-05]\n"
     ]
    },
    {
     "name": "stderr",
     "output_type": "stream",
     "text": [
      "Epoch 14/100: 100%|█████████████████████████████████████████████████████████████████████| 16/16 [00:05<00:00,  3.06it/s]\n"
     ]
    },
    {
     "name": "stdout",
     "output_type": "stream",
     "text": [
      "Epoch 14/100, Train Loss: 0.1762, Val Loss: 0.2318, Val Accuracy: 91.94%\n",
      "Last learning rate: [5e-05]\n"
     ]
    },
    {
     "name": "stderr",
     "output_type": "stream",
     "text": [
      "Epoch 15/100: 100%|█████████████████████████████████████████████████████████████████████| 16/16 [00:05<00:00,  3.20it/s]\n"
     ]
    },
    {
     "name": "stdout",
     "output_type": "stream",
     "text": [
      "Epoch 15/100, Train Loss: 0.1550, Val Loss: 0.1907, Val Accuracy: 95.16%\n",
      "Last learning rate: [5e-05]\n"
     ]
    },
    {
     "name": "stderr",
     "output_type": "stream",
     "text": [
      "Epoch 16/100: 100%|█████████████████████████████████████████████████████████████████████| 16/16 [00:04<00:00,  3.20it/s]\n"
     ]
    },
    {
     "name": "stdout",
     "output_type": "stream",
     "text": [
      "Epoch 16/100, Train Loss: 0.1230, Val Loss: 0.2168, Val Accuracy: 93.55%\n",
      "Last learning rate: [5e-05]\n"
     ]
    },
    {
     "name": "stderr",
     "output_type": "stream",
     "text": [
      "Epoch 17/100: 100%|█████████████████████████████████████████████████████████████████████| 16/16 [00:04<00:00,  3.21it/s]\n"
     ]
    },
    {
     "name": "stdout",
     "output_type": "stream",
     "text": [
      "Epoch 17/100, Train Loss: 0.1268, Val Loss: 0.2033, Val Accuracy: 95.16%\n",
      "Last learning rate: [5e-05]\n"
     ]
    },
    {
     "name": "stderr",
     "output_type": "stream",
     "text": [
      "Epoch 18/100: 100%|█████████████████████████████████████████████████████████████████████| 16/16 [00:05<00:00,  2.98it/s]\n"
     ]
    },
    {
     "name": "stdout",
     "output_type": "stream",
     "text": [
      "Epoch 18/100, Train Loss: 0.1079, Val Loss: 0.2107, Val Accuracy: 94.35%\n",
      "Last learning rate: [5e-05]\n"
     ]
    },
    {
     "name": "stderr",
     "output_type": "stream",
     "text": [
      "Epoch 19/100: 100%|█████████████████████████████████████████████████████████████████████| 16/16 [00:05<00:00,  2.74it/s]\n"
     ]
    },
    {
     "name": "stdout",
     "output_type": "stream",
     "text": [
      "Epoch 19/100, Train Loss: 0.1344, Val Loss: 0.1912, Val Accuracy: 93.55%\n",
      "Last learning rate: [5e-06]\n"
     ]
    },
    {
     "name": "stderr",
     "output_type": "stream",
     "text": [
      "Epoch 20/100: 100%|█████████████████████████████████████████████████████████████████████| 16/16 [00:05<00:00,  3.18it/s]\n"
     ]
    },
    {
     "name": "stdout",
     "output_type": "stream",
     "text": [
      "Epoch 20/100, Train Loss: 0.1062, Val Loss: 0.1880, Val Accuracy: 95.97%\n",
      "Last learning rate: [5e-06]\n"
     ]
    },
    {
     "name": "stderr",
     "output_type": "stream",
     "text": [
      "Epoch 21/100: 100%|█████████████████████████████████████████████████████████████████████| 16/16 [00:05<00:00,  3.18it/s]\n"
     ]
    },
    {
     "name": "stdout",
     "output_type": "stream",
     "text": [
      "Epoch 21/100, Train Loss: 0.1074, Val Loss: 0.1917, Val Accuracy: 95.16%\n",
      "Last learning rate: [5e-06]\n"
     ]
    },
    {
     "name": "stderr",
     "output_type": "stream",
     "text": [
      "Epoch 22/100: 100%|█████████████████████████████████████████████████████████████████████| 16/16 [00:05<00:00,  3.17it/s]\n"
     ]
    },
    {
     "name": "stdout",
     "output_type": "stream",
     "text": [
      "Epoch 22/100, Train Loss: 0.1182, Val Loss: 0.1912, Val Accuracy: 95.97%\n",
      "Last learning rate: [5e-06]\n"
     ]
    },
    {
     "name": "stderr",
     "output_type": "stream",
     "text": [
      "Epoch 23/100: 100%|█████████████████████████████████████████████████████████████████████| 16/16 [00:05<00:00,  3.16it/s]\n"
     ]
    },
    {
     "name": "stdout",
     "output_type": "stream",
     "text": [
      "Epoch 23/100, Train Loss: 0.0975, Val Loss: 0.1945, Val Accuracy: 95.16%\n",
      "Last learning rate: [5e-06]\n"
     ]
    },
    {
     "name": "stderr",
     "output_type": "stream",
     "text": [
      "Epoch 24/100: 100%|█████████████████████████████████████████████████████████████████████| 16/16 [00:05<00:00,  3.17it/s]\n"
     ]
    },
    {
     "name": "stdout",
     "output_type": "stream",
     "text": [
      "Epoch 24/100, Train Loss: 0.0862, Val Loss: 0.1871, Val Accuracy: 95.97%\n",
      "Last learning rate: [5e-06]\n"
     ]
    },
    {
     "name": "stderr",
     "output_type": "stream",
     "text": [
      "Epoch 25/100: 100%|█████████████████████████████████████████████████████████████████████| 16/16 [00:05<00:00,  3.19it/s]\n"
     ]
    },
    {
     "name": "stdout",
     "output_type": "stream",
     "text": [
      "Epoch 25/100, Train Loss: 0.1113, Val Loss: 0.1965, Val Accuracy: 95.97%\n",
      "Last learning rate: [5.000000000000001e-07]\n"
     ]
    },
    {
     "name": "stderr",
     "output_type": "stream",
     "text": [
      "Epoch 26/100: 100%|█████████████████████████████████████████████████████████████████████| 16/16 [00:04<00:00,  3.23it/s]\n"
     ]
    },
    {
     "name": "stdout",
     "output_type": "stream",
     "text": [
      "Epoch 26/100, Train Loss: 0.0844, Val Loss: 0.1924, Val Accuracy: 94.35%\n",
      "Last learning rate: [5.000000000000001e-07]\n"
     ]
    },
    {
     "name": "stderr",
     "output_type": "stream",
     "text": [
      "Epoch 27/100: 100%|█████████████████████████████████████████████████████████████████████| 16/16 [00:05<00:00,  3.12it/s]\n"
     ]
    },
    {
     "name": "stdout",
     "output_type": "stream",
     "text": [
      "Epoch 27/100, Train Loss: 0.1044, Val Loss: 0.1878, Val Accuracy: 96.77%\n",
      "Last learning rate: [5.000000000000001e-07]\n",
      "Early stopping triggered.\n",
      "Training complete!\n",
      "Test results for densenet\n",
      "Model Evaluation Metrics:\n",
      "Accuracy: 0.9156\n",
      "Precision: 0.9163\n",
      "Recall: 0.9156\n",
      "F1 Score: 0.9146\n",
      "\n",
      "Confusion Matrix:\n",
      "[58, 0, 0]\n",
      "[3, 48, 5]\n",
      "[2, 3, 35]\n",
      "\n",
      "Detailed Classification Report:\n",
      "0:\n",
      "  precision: 0.9206349206349206\n",
      "  recall: 1.0\n",
      "  f1-score: 0.9586776859504132\n",
      "  support: 58.0\n",
      "1:\n",
      "  precision: 0.9411764705882353\n",
      "  recall: 0.8571428571428571\n",
      "  f1-score: 0.897196261682243\n",
      "  support: 56.0\n",
      "2:\n",
      "  precision: 0.875\n",
      "  recall: 0.875\n",
      "  f1-score: 0.875\n",
      "  support: 40.0\n",
      "Training deit...\n"
     ]
    },
    {
     "name": "stderr",
     "output_type": "stream",
     "text": [
      "Epoch 1/100: 100%|██████████████████████████████████████████████████████████████████████| 16/16 [01:04<00:00,  4.05s/it]\n"
     ]
    },
    {
     "name": "stdout",
     "output_type": "stream",
     "text": [
      "Epoch 1/100, Train Loss: 0.7329, Val Loss: 0.3691, Val Accuracy: 84.68%\n",
      "Last learning rate: [5e-05]\n"
     ]
    },
    {
     "name": "stderr",
     "output_type": "stream",
     "text": [
      "Epoch 2/100: 100%|██████████████████████████████████████████████████████████████████████| 16/16 [01:04<00:00,  4.05s/it]\n"
     ]
    },
    {
     "name": "stdout",
     "output_type": "stream",
     "text": [
      "Epoch 2/100, Train Loss: 0.2960, Val Loss: 0.2464, Val Accuracy: 93.55%\n",
      "Last learning rate: [5e-05]\n"
     ]
    },
    {
     "name": "stderr",
     "output_type": "stream",
     "text": [
      "Epoch 3/100: 100%|██████████████████████████████████████████████████████████████████████| 16/16 [01:12<00:00,  4.53s/it]\n"
     ]
    },
    {
     "name": "stdout",
     "output_type": "stream",
     "text": [
      "Epoch 3/100, Train Loss: 0.2035, Val Loss: 0.2252, Val Accuracy: 92.74%\n",
      "Last learning rate: [5e-05]\n"
     ]
    },
    {
     "name": "stderr",
     "output_type": "stream",
     "text": [
      "Epoch 4/100: 100%|██████████████████████████████████████████████████████████████████████| 16/16 [01:12<00:00,  4.55s/it]\n"
     ]
    },
    {
     "name": "stdout",
     "output_type": "stream",
     "text": [
      "Epoch 4/100, Train Loss: 0.2288, Val Loss: 0.2581, Val Accuracy: 92.74%\n",
      "Last learning rate: [5e-05]\n"
     ]
    },
    {
     "name": "stderr",
     "output_type": "stream",
     "text": [
      "Epoch 5/100: 100%|██████████████████████████████████████████████████████████████████████| 16/16 [01:13<00:00,  4.61s/it]\n"
     ]
    },
    {
     "name": "stdout",
     "output_type": "stream",
     "text": [
      "Epoch 5/100, Train Loss: 0.1407, Val Loss: 0.2166, Val Accuracy: 91.94%\n",
      "Last learning rate: [5e-05]\n"
     ]
    },
    {
     "name": "stderr",
     "output_type": "stream",
     "text": [
      "Epoch 6/100: 100%|██████████████████████████████████████████████████████████████████████| 16/16 [01:13<00:00,  4.59s/it]\n"
     ]
    },
    {
     "name": "stdout",
     "output_type": "stream",
     "text": [
      "Epoch 6/100, Train Loss: 0.1459, Val Loss: 0.1940, Val Accuracy: 94.35%\n",
      "Last learning rate: [5e-05]\n"
     ]
    },
    {
     "name": "stderr",
     "output_type": "stream",
     "text": [
      "Epoch 7/100: 100%|██████████████████████████████████████████████████████████████████████| 16/16 [01:13<00:00,  4.59s/it]\n"
     ]
    },
    {
     "name": "stdout",
     "output_type": "stream",
     "text": [
      "Epoch 7/100, Train Loss: 0.1019, Val Loss: 0.2031, Val Accuracy: 93.55%\n",
      "Last learning rate: [5e-05]\n"
     ]
    },
    {
     "name": "stderr",
     "output_type": "stream",
     "text": [
      "Epoch 8/100: 100%|██████████████████████████████████████████████████████████████████████| 16/16 [01:13<00:00,  4.61s/it]\n"
     ]
    },
    {
     "name": "stdout",
     "output_type": "stream",
     "text": [
      "Epoch 8/100, Train Loss: 0.1015, Val Loss: 0.2131, Val Accuracy: 92.74%\n",
      "Last learning rate: [5e-05]\n"
     ]
    },
    {
     "name": "stderr",
     "output_type": "stream",
     "text": [
      "Epoch 9/100: 100%|██████████████████████████████████████████████████████████████████████| 16/16 [01:12<00:00,  4.56s/it]\n"
     ]
    },
    {
     "name": "stdout",
     "output_type": "stream",
     "text": [
      "Epoch 9/100, Train Loss: 0.0795, Val Loss: 0.2041, Val Accuracy: 95.97%\n",
      "Last learning rate: [5e-05]\n"
     ]
    },
    {
     "name": "stderr",
     "output_type": "stream",
     "text": [
      "Epoch 10/100: 100%|█████████████████████████████████████████████████████████████████████| 16/16 [01:12<00:00,  4.56s/it]\n"
     ]
    },
    {
     "name": "stdout",
     "output_type": "stream",
     "text": [
      "Epoch 10/100, Train Loss: 0.0525, Val Loss: 0.2292, Val Accuracy: 95.16%\n",
      "Last learning rate: [5e-05]\n"
     ]
    },
    {
     "name": "stderr",
     "output_type": "stream",
     "text": [
      "Epoch 11/100: 100%|█████████████████████████████████████████████████████████████████████| 16/16 [01:13<00:00,  4.56s/it]\n"
     ]
    },
    {
     "name": "stdout",
     "output_type": "stream",
     "text": [
      "Epoch 11/100, Train Loss: 0.0901, Val Loss: 0.2489, Val Accuracy: 93.55%\n",
      "Last learning rate: [5e-05]\n"
     ]
    },
    {
     "name": "stderr",
     "output_type": "stream",
     "text": [
      "Epoch 12/100: 100%|█████████████████████████████████████████████████████████████████████| 16/16 [01:13<00:00,  4.57s/it]\n"
     ]
    },
    {
     "name": "stdout",
     "output_type": "stream",
     "text": [
      "Epoch 12/100, Train Loss: 0.0823, Val Loss: 0.1808, Val Accuracy: 92.74%\n",
      "Last learning rate: [5e-05]\n"
     ]
    },
    {
     "name": "stderr",
     "output_type": "stream",
     "text": [
      "Epoch 13/100: 100%|█████████████████████████████████████████████████████████████████████| 16/16 [01:13<00:00,  4.59s/it]\n"
     ]
    },
    {
     "name": "stdout",
     "output_type": "stream",
     "text": [
      "Epoch 13/100, Train Loss: 0.0390, Val Loss: 0.2007, Val Accuracy: 92.74%\n",
      "Last learning rate: [5e-05]\n"
     ]
    },
    {
     "name": "stderr",
     "output_type": "stream",
     "text": [
      "Epoch 14/100: 100%|█████████████████████████████████████████████████████████████████████| 16/16 [01:16<00:00,  4.81s/it]\n"
     ]
    },
    {
     "name": "stdout",
     "output_type": "stream",
     "text": [
      "Epoch 14/100, Train Loss: 0.0572, Val Loss: 0.2642, Val Accuracy: 93.55%\n",
      "Last learning rate: [5e-05]\n"
     ]
    },
    {
     "name": "stderr",
     "output_type": "stream",
     "text": [
      "Epoch 15/100: 100%|█████████████████████████████████████████████████████████████████████| 16/16 [01:17<00:00,  4.82s/it]\n"
     ]
    },
    {
     "name": "stdout",
     "output_type": "stream",
     "text": [
      "Epoch 15/100, Train Loss: 0.0555, Val Loss: 0.2660, Val Accuracy: 93.55%\n",
      "Last learning rate: [5e-05]\n"
     ]
    },
    {
     "name": "stderr",
     "output_type": "stream",
     "text": [
      "Epoch 16/100: 100%|█████████████████████████████████████████████████████████████████████| 16/16 [01:17<00:00,  4.87s/it]\n"
     ]
    },
    {
     "name": "stdout",
     "output_type": "stream",
     "text": [
      "Epoch 16/100, Train Loss: 0.0578, Val Loss: 0.2455, Val Accuracy: 93.55%\n",
      "Last learning rate: [5e-05]\n"
     ]
    },
    {
     "name": "stderr",
     "output_type": "stream",
     "text": [
      "Epoch 17/100: 100%|█████████████████████████████████████████████████████████████████████| 16/16 [01:17<00:00,  4.83s/it]\n"
     ]
    },
    {
     "name": "stdout",
     "output_type": "stream",
     "text": [
      "Epoch 17/100, Train Loss: 0.0833, Val Loss: 0.2382, Val Accuracy: 91.94%\n",
      "Last learning rate: [5e-05]\n"
     ]
    },
    {
     "name": "stderr",
     "output_type": "stream",
     "text": [
      "Epoch 18/100: 100%|█████████████████████████████████████████████████████████████████████| 16/16 [01:17<00:00,  4.83s/it]\n"
     ]
    },
    {
     "name": "stdout",
     "output_type": "stream",
     "text": [
      "Epoch 18/100, Train Loss: 0.0593, Val Loss: 0.2801, Val Accuracy: 93.55%\n",
      "Last learning rate: [5e-05]\n"
     ]
    },
    {
     "name": "stderr",
     "output_type": "stream",
     "text": [
      "Epoch 19/100: 100%|█████████████████████████████████████████████████████████████████████| 16/16 [01:17<00:00,  4.85s/it]\n"
     ]
    },
    {
     "name": "stdout",
     "output_type": "stream",
     "text": [
      "Epoch 19/100, Train Loss: 0.0475, Val Loss: 0.2462, Val Accuracy: 93.55%\n",
      "Last learning rate: [5e-06]\n"
     ]
    },
    {
     "name": "stderr",
     "output_type": "stream",
     "text": [
      "Epoch 20/100: 100%|█████████████████████████████████████████████████████████████████████| 16/16 [01:17<00:00,  4.83s/it]\n"
     ]
    },
    {
     "name": "stdout",
     "output_type": "stream",
     "text": [
      "Epoch 20/100, Train Loss: 0.0386, Val Loss: 0.2301, Val Accuracy: 93.55%\n",
      "Last learning rate: [5e-06]\n"
     ]
    },
    {
     "name": "stderr",
     "output_type": "stream",
     "text": [
      "Epoch 21/100: 100%|█████████████████████████████████████████████████████████████████████| 16/16 [01:17<00:00,  4.82s/it]\n"
     ]
    },
    {
     "name": "stdout",
     "output_type": "stream",
     "text": [
      "Epoch 21/100, Train Loss: 0.0283, Val Loss: 0.2340, Val Accuracy: 94.35%\n",
      "Last learning rate: [5e-06]\n"
     ]
    },
    {
     "name": "stderr",
     "output_type": "stream",
     "text": [
      "Epoch 22/100: 100%|█████████████████████████████████████████████████████████████████████| 16/16 [01:17<00:00,  4.86s/it]\n"
     ]
    },
    {
     "name": "stdout",
     "output_type": "stream",
     "text": [
      "Epoch 22/100, Train Loss: 0.0393, Val Loss: 0.2360, Val Accuracy: 94.35%\n",
      "Last learning rate: [5e-06]\n"
     ]
    },
    {
     "name": "stderr",
     "output_type": "stream",
     "text": [
      "Epoch 23/100: 100%|█████████████████████████████████████████████████████████████████████| 16/16 [01:17<00:00,  4.85s/it]\n"
     ]
    },
    {
     "name": "stdout",
     "output_type": "stream",
     "text": [
      "Epoch 23/100, Train Loss: 0.0155, Val Loss: 0.2365, Val Accuracy: 94.35%\n",
      "Last learning rate: [5e-06]\n"
     ]
    },
    {
     "name": "stderr",
     "output_type": "stream",
     "text": [
      "Epoch 24/100: 100%|█████████████████████████████████████████████████████████████████████| 16/16 [01:17<00:00,  4.85s/it]\n"
     ]
    },
    {
     "name": "stdout",
     "output_type": "stream",
     "text": [
      "Epoch 24/100, Train Loss: 0.0314, Val Loss: 0.2341, Val Accuracy: 94.35%\n",
      "Last learning rate: [5e-06]\n"
     ]
    },
    {
     "name": "stderr",
     "output_type": "stream",
     "text": [
      "Epoch 25/100: 100%|█████████████████████████████████████████████████████████████████████| 16/16 [01:17<00:00,  4.85s/it]\n"
     ]
    },
    {
     "name": "stdout",
     "output_type": "stream",
     "text": [
      "Epoch 25/100, Train Loss: 0.0299, Val Loss: 0.2324, Val Accuracy: 94.35%\n",
      "Last learning rate: [5.000000000000001e-07]\n"
     ]
    },
    {
     "name": "stderr",
     "output_type": "stream",
     "text": [
      "Epoch 26/100: 100%|█████████████████████████████████████████████████████████████████████| 16/16 [01:17<00:00,  4.86s/it]\n"
     ]
    },
    {
     "name": "stdout",
     "output_type": "stream",
     "text": [
      "Epoch 26/100, Train Loss: 0.0438, Val Loss: 0.2306, Val Accuracy: 94.35%\n",
      "Last learning rate: [5.000000000000001e-07]\n"
     ]
    },
    {
     "name": "stderr",
     "output_type": "stream",
     "text": [
      "Epoch 27/100: 100%|█████████████████████████████████████████████████████████████████████| 16/16 [01:18<00:00,  4.92s/it]\n"
     ]
    },
    {
     "name": "stdout",
     "output_type": "stream",
     "text": [
      "Epoch 27/100, Train Loss: 0.0251, Val Loss: 0.2295, Val Accuracy: 94.35%\n",
      "Last learning rate: [5.000000000000001e-07]\n",
      "Early stopping triggered.\n",
      "Training complete!\n",
      "Test results for deit\n",
      "Model Evaluation Metrics:\n",
      "Accuracy: 0.9221\n",
      "Precision: 0.9212\n",
      "Recall: 0.9221\n",
      "F1 Score: 0.9209\n",
      "\n",
      "Confusion Matrix:\n",
      "[58, 0, 0]\n",
      "[1, 51, 4]\n",
      "[3, 4, 33]\n",
      "\n",
      "Detailed Classification Report:\n",
      "0:\n",
      "  precision: 0.9354838709677419\n",
      "  recall: 1.0\n",
      "  f1-score: 0.9666666666666667\n",
      "  support: 58.0\n",
      "1:\n",
      "  precision: 0.9272727272727272\n",
      "  recall: 0.9107142857142857\n",
      "  f1-score: 0.918918918918919\n",
      "  support: 56.0\n",
      "2:\n",
      "  precision: 0.8918918918918919\n",
      "  recall: 0.825\n",
      "  f1-score: 0.8571428571428571\n",
      "  support: 40.0\n"
     ]
    }
   ],
   "source": [
    "evaluation_results = {}\n",
    "\n",
    "for model_name, model in models.items():\n",
    "    optimizer = optim.AdamW(model.parameters(), lr=learning_rate, weight_decay=weight_decay)\n",
    "    scheduler = ReduceLROnPlateau(optimizer, mode='min', patience=5)\n",
    "    early_stopping = EarlyStopping(patience=15, min_delta=0.01)\n",
    "\n",
    "    print(f\"Training {model_name}...\")\n",
    "\n",
    "    for epoch in range(num_epochs):\n",
    "        model.train()\n",
    "        running_loss = 0\n",
    "    \n",
    "        # Progress bar for training\n",
    "        pbar = tqdm(train_loader, desc=f'Epoch {epoch+1}/{num_epochs}')\n",
    "    \n",
    "        for images, labels in pbar:\n",
    "            images, labels = images.to(device), labels.to(device)\n",
    "    \n",
    "            optimizer.zero_grad()\n",
    "            outputs = model(images)\n",
    "            loss = criterion(outputs, labels)\n",
    "            loss.backward()\n",
    "            optimizer.step()\n",
    "    \n",
    "            running_loss += loss.item()\n",
    "    \n",
    "        train_loss = running_loss / len(train_loader)\n",
    "        # print(f\"Epoch {epoch+1}/{num_epochs}, Loss: {avg_loss:.4f}\")\n",
    "        val_loss, val_accuracy = evaluate(model, val_loader, criterion)\n",
    "        print(f\"Epoch {epoch+1}/{num_epochs}, Train Loss: {train_loss:.4f}, \"\n",
    "              f\"Val Loss: {val_loss:.4f}, Val Accuracy: {val_accuracy:.2f}%\")\n",
    "    \n",
    "        print(f\"Last learning rate: {scheduler.get_last_lr()}\")\n",
    "        # Adjust learning rate\n",
    "        scheduler.step(val_loss)\n",
    "        \n",
    "        # Early Stopping\n",
    "        early_stopping(val_loss)\n",
    "        if early_stopping.early_stop:\n",
    "            print(\"Early stopping triggered.\")\n",
    "            break\n",
    "    \n",
    "    print(\"Training complete!\")\n",
    "\n",
    "    # model.eval()\n",
    "    # correct = 0\n",
    "    # total = 0\n",
    "    \n",
    "    # with torch.no_grad():\n",
    "    #     pbar = tqdm(test_loader)\n",
    "    #     for images, labels in pbar:\n",
    "    #         images, labels = images.to(device), labels.to(device)\n",
    "    #         outputs = model(images)\n",
    "    #         _, predicted = torch.max(outputs, 1)\n",
    "    #         correct += (predicted == labels).sum().item()\n",
    "    #         total += labels.size(0)\n",
    "    \n",
    "    # accuracy = 100 * correct / total\n",
    "    # print(f\"{variation} Testing Accuracy: {accuracy:.2f}%\")\n",
    "\n",
    "    # Evaluate the model\n",
    "    results = evaluate_model(\n",
    "        model=model, \n",
    "        dataloader=test_loader, \n",
    "        device=device,\n",
    "        multiclass=True  # Set based on your problem\n",
    "    )\n",
    "    \n",
    "    # Print results\n",
    "    print(f\"Test results for {model_name}\")\n",
    "    print_evaluation_results(results)\n",
    "\n",
    "    evaluation_results[model_name] = results"
   ]
  },
  {
   "cell_type": "code",
   "execution_count": 8,
   "metadata": {
    "colab": {
     "base_uri": "https://localhost:8080/"
    },
    "id": "pQtgVA9WSZPR",
    "outputId": "a4e886db-945b-4416-d1c5-09f5e3ea4139"
   },
   "outputs": [
    {
     "name": "stdout",
     "output_type": "stream",
     "text": [
      "{'resnet': {'accuracy': 0.8766233766233766, 'confusion_matrix': [[58, 0, 0], [4, 44, 8], [4, 3, 33]], 'classification_report': {'0': {'precision': 0.8787878787878788, 'recall': 1.0, 'f1-score': 0.9354838709677419, 'support': 58.0}, '1': {'precision': 0.9361702127659575, 'recall': 0.7857142857142857, 'f1-score': 0.8543689320388349, 'support': 56.0}, '2': {'precision': 0.8048780487804879, 'recall': 0.825, 'f1-score': 0.8148148148148148, 'support': 40.0}, 'accuracy': 0.8766233766233766, 'macro avg': {'precision': 0.8732787134447747, 'recall': 0.8702380952380953, 'f1-score': 0.8682225392737971, 'support': 154.0}, 'weighted avg': {'precision': 0.8804568236091564, 'recall': 0.8766233766233766, 'f1-score': 0.8746449175512752, 'support': 154.0}}, 'precision': 0.8804568236091564, 'recall': 0.8766233766233766, 'f1_score': 0.8746449175512752, 'roc_auc': None}, 'densenet': {'accuracy': 0.9155844155844156, 'confusion_matrix': [[58, 0, 0], [3, 48, 5], [2, 3, 35]], 'classification_report': {'0': {'precision': 0.9206349206349206, 'recall': 1.0, 'f1-score': 0.9586776859504132, 'support': 58.0}, '1': {'precision': 0.9411764705882353, 'recall': 0.8571428571428571, 'f1-score': 0.897196261682243, 'support': 56.0}, '2': {'precision': 0.875, 'recall': 0.875, 'f1-score': 0.875, 'support': 40.0}, 'accuracy': 0.9155844155844156, 'macro avg': {'precision': 0.912270463741052, 'recall': 0.9107142857142857, 'f1-score': 0.9102913158775521, 'support': 154.0}, 'weighted avg': {'precision': 0.9162513490244583, 'recall': 0.9155844155844156, 'f1-score': 0.9145863405151272, 'support': 154.0}}, 'precision': 0.9162513490244583, 'recall': 0.9155844155844156, 'f1_score': 0.9145863405151272, 'roc_auc': None}, 'deit': {'accuracy': 0.922077922077922, 'confusion_matrix': [[58, 0, 0], [1, 51, 4], [3, 4, 33]], 'classification_report': {'0': {'precision': 0.9354838709677419, 'recall': 1.0, 'f1-score': 0.9666666666666667, 'support': 58.0}, '1': {'precision': 0.9272727272727272, 'recall': 0.9107142857142857, 'f1-score': 0.918918918918919, 'support': 56.0}, '2': {'precision': 0.8918918918918919, 'recall': 0.825, 'f1-score': 0.8571428571428571, 'support': 40.0}, 'accuracy': 0.922077922077922, 'macro avg': {'precision': 0.9182161633774536, 'recall': 0.9119047619047619, 'f1-score': 0.9142428142428143, 'support': 154.0}, 'weighted avg': {'precision': 0.9211754085654379, 'recall': 0.922077922077922, 'f1-score': 0.9208561065703923, 'support': 154.0}}, 'precision': 0.9211754085654379, 'recall': 0.922077922077922, 'f1_score': 0.9208561065703923, 'roc_auc': None}}\n"
     ]
    }
   ],
   "source": [
    "print(evaluation_results)"
   ]
  },
  {
   "cell_type": "code",
   "execution_count": 9,
   "metadata": {
    "id": "lj5jhOAf9Fyd"
   },
   "outputs": [
    {
     "data": {
      "text/plain": [
       "{'resnet': {'accuracy': 0.8766233766233766,\n",
       "  'confusion_matrix': [[58, 0, 0], [4, 44, 8], [4, 3, 33]],\n",
       "  'classification_report': {'0': {'precision': 0.8787878787878788,\n",
       "    'recall': 1.0,\n",
       "    'f1-score': 0.9354838709677419,\n",
       "    'support': 58.0},\n",
       "   '1': {'precision': 0.9361702127659575,\n",
       "    'recall': 0.7857142857142857,\n",
       "    'f1-score': 0.8543689320388349,\n",
       "    'support': 56.0},\n",
       "   '2': {'precision': 0.8048780487804879,\n",
       "    'recall': 0.825,\n",
       "    'f1-score': 0.8148148148148148,\n",
       "    'support': 40.0},\n",
       "   'accuracy': 0.8766233766233766,\n",
       "   'macro avg': {'precision': 0.8732787134447747,\n",
       "    'recall': 0.8702380952380953,\n",
       "    'f1-score': 0.8682225392737971,\n",
       "    'support': 154.0},\n",
       "   'weighted avg': {'precision': 0.8804568236091564,\n",
       "    'recall': 0.8766233766233766,\n",
       "    'f1-score': 0.8746449175512752,\n",
       "    'support': 154.0}},\n",
       "  'precision': 0.8804568236091564,\n",
       "  'recall': 0.8766233766233766,\n",
       "  'f1_score': 0.8746449175512752,\n",
       "  'roc_auc': None},\n",
       " 'densenet': {'accuracy': 0.9155844155844156,\n",
       "  'confusion_matrix': [[58, 0, 0], [3, 48, 5], [2, 3, 35]],\n",
       "  'classification_report': {'0': {'precision': 0.9206349206349206,\n",
       "    'recall': 1.0,\n",
       "    'f1-score': 0.9586776859504132,\n",
       "    'support': 58.0},\n",
       "   '1': {'precision': 0.9411764705882353,\n",
       "    'recall': 0.8571428571428571,\n",
       "    'f1-score': 0.897196261682243,\n",
       "    'support': 56.0},\n",
       "   '2': {'precision': 0.875,\n",
       "    'recall': 0.875,\n",
       "    'f1-score': 0.875,\n",
       "    'support': 40.0},\n",
       "   'accuracy': 0.9155844155844156,\n",
       "   'macro avg': {'precision': 0.912270463741052,\n",
       "    'recall': 0.9107142857142857,\n",
       "    'f1-score': 0.9102913158775521,\n",
       "    'support': 154.0},\n",
       "   'weighted avg': {'precision': 0.9162513490244583,\n",
       "    'recall': 0.9155844155844156,\n",
       "    'f1-score': 0.9145863405151272,\n",
       "    'support': 154.0}},\n",
       "  'precision': 0.9162513490244583,\n",
       "  'recall': 0.9155844155844156,\n",
       "  'f1_score': 0.9145863405151272,\n",
       "  'roc_auc': None},\n",
       " 'deit': {'accuracy': 0.922077922077922,\n",
       "  'confusion_matrix': [[58, 0, 0], [1, 51, 4], [3, 4, 33]],\n",
       "  'classification_report': {'0': {'precision': 0.9354838709677419,\n",
       "    'recall': 1.0,\n",
       "    'f1-score': 0.9666666666666667,\n",
       "    'support': 58.0},\n",
       "   '1': {'precision': 0.9272727272727272,\n",
       "    'recall': 0.9107142857142857,\n",
       "    'f1-score': 0.918918918918919,\n",
       "    'support': 56.0},\n",
       "   '2': {'precision': 0.8918918918918919,\n",
       "    'recall': 0.825,\n",
       "    'f1-score': 0.8571428571428571,\n",
       "    'support': 40.0},\n",
       "   'accuracy': 0.922077922077922,\n",
       "   'macro avg': {'precision': 0.9182161633774536,\n",
       "    'recall': 0.9119047619047619,\n",
       "    'f1-score': 0.9142428142428143,\n",
       "    'support': 154.0},\n",
       "   'weighted avg': {'precision': 0.9211754085654379,\n",
       "    'recall': 0.922077922077922,\n",
       "    'f1-score': 0.9208561065703923,\n",
       "    'support': 154.0}},\n",
       "  'precision': 0.9211754085654379,\n",
       "  'recall': 0.922077922077922,\n",
       "  'f1_score': 0.9208561065703923,\n",
       "  'roc_auc': None}}"
      ]
     },
     "execution_count": 9,
     "metadata": {},
     "output_type": "execute_result"
    }
   ],
   "source": [
    "evaluation_results"
   ]
  },
  {
   "cell_type": "code",
   "execution_count": null,
   "metadata": {},
   "outputs": [],
   "source": []
  }
 ],
 "metadata": {
  "accelerator": "GPU",
  "colab": {
   "gpuType": "T4",
   "provenance": []
  },
  "kernelspec": {
   "display_name": "Python 3 (ipykernel)",
   "language": "python",
   "name": "python3"
  },
  "language_info": {
   "codemirror_mode": {
    "name": "ipython",
    "version": 3
   },
   "file_extension": ".py",
   "mimetype": "text/x-python",
   "name": "python",
   "nbconvert_exporter": "python",
   "pygments_lexer": "ipython3",
   "version": "3.12.8"
  }
 },
 "nbformat": 4,
 "nbformat_minor": 4
}
