{
 "cells": [
  {
   "cell_type": "code",
   "execution_count": 1,
   "metadata": {
    "colab": {
     "base_uri": "https://localhost:8080/",
     "height": 837,
     "referenced_widgets": [
      "a731e05af5fc4bdfa63a64e2fb0b77cf",
      "0082362eefaf438198bb7ac7ae2c11ce",
      "2510d876abc34630971d4cc0bf3c9703",
      "bfaf8bcfed584e54a477e0ad8f0a1120",
      "8de59a9604e641ca97181a6637a9b63a",
      "1e8fc5594eac4c96adeae73dbe861f79",
      "0e8a5fe7a8e84a108193f02025378c77",
      "8866c2b7c65a4bb58d3aeda90bd26a6f",
      "4f249363fc3d45f18ebb0222c1a4c5b6",
      "2d9233759c734507b5b19936abff3c8c",
      "00faa3fe32134c5e9c25b5b992ed4232"
     ]
    },
    "id": "qD75oH3QGlSS",
    "outputId": "b2a82437-49e0-49f6-e82e-61d0a41561b9"
   },
   "outputs": [
    {
     "name": "stdout",
     "output_type": "stream",
     "text": [
      "Using device: mps\n"
     ]
    },
    {
     "name": "stderr",
     "output_type": "stream",
     "text": [
      "100%|█████████████████████████████████████████| 170M/170M [23:25<00:00, 121kB/s]\n",
      "Downloading: \"https://download.pytorch.org/models/resnet50-11ad3fa6.pth\" to /Users/mmob/.cache/torch/hub/checkpoints/resnet50-11ad3fa6.pth\n",
      "100%|██████████████████████████████████████| 97.8M/97.8M [00:02<00:00, 43.9MB/s]\n"
     ]
    },
    {
     "data": {
      "application/vnd.jupyter.widget-view+json": {
       "model_id": "5228fe8b2a5646409657c78f6f0c0202",
       "version_major": 2,
       "version_minor": 0
      },
      "text/plain": [
       "model.safetensors:   0%|          | 0.00/88.2M [00:00<?, ?B/s]"
      ]
     },
     "metadata": {},
     "output_type": "display_data"
    },
    {
     "name": "stderr",
     "output_type": "stream",
     "text": [
      "Epoch 1/20: 100%|███████████████| 1563/1563 [12:13<00:00,  2.13it/s, loss=0.869]\n"
     ]
    },
    {
     "name": "stdout",
     "output_type": "stream",
     "text": [
      "Epoch 1/20, Loss: 1.3889, Test Accuracy: 73.08%\n"
     ]
    },
    {
     "name": "stderr",
     "output_type": "stream",
     "text": [
      "Epoch 2/20: 100%|███████████████| 1563/1563 [11:46<00:00,  2.21it/s, loss=0.924]\n"
     ]
    },
    {
     "name": "stdout",
     "output_type": "stream",
     "text": [
      "Epoch 2/20, Loss: 1.1936, Test Accuracy: 74.91%\n"
     ]
    },
    {
     "name": "stderr",
     "output_type": "stream",
     "text": [
      "Epoch 3/20: 100%|██████████████| 1563/1563 [1:00:11<00:00,  2.31s/it, loss=1.74]\n"
     ]
    },
    {
     "name": "stdout",
     "output_type": "stream",
     "text": [
      "Epoch 3/20, Loss: 1.1506, Test Accuracy: 76.43%\n"
     ]
    },
    {
     "name": "stderr",
     "output_type": "stream",
     "text": [
      "Epoch 4/20: 100%|████████████████| 1563/1563 [16:19<00:00,  1.60it/s, loss=1.25]\n"
     ]
    },
    {
     "name": "stdout",
     "output_type": "stream",
     "text": [
      "Epoch 4/20, Loss: 1.1072, Test Accuracy: 77.94%\n"
     ]
    },
    {
     "name": "stderr",
     "output_type": "stream",
     "text": [
      "Epoch 5/20: 100%|████████████████| 1563/1563 [17:17<00:00,  1.51it/s, loss=1.26]\n"
     ]
    },
    {
     "name": "stdout",
     "output_type": "stream",
     "text": [
      "Epoch 5/20, Loss: 1.0875, Test Accuracy: 78.41%\n"
     ]
    },
    {
     "name": "stderr",
     "output_type": "stream",
     "text": [
      "Epoch 6/20: 100%|███████████████| 1563/1563 [17:58<00:00,  1.45it/s, loss=0.908]\n"
     ]
    },
    {
     "name": "stdout",
     "output_type": "stream",
     "text": [
      "Epoch 6/20, Loss: 1.0648, Test Accuracy: 77.95%\n"
     ]
    },
    {
     "name": "stderr",
     "output_type": "stream",
     "text": [
      "Epoch 7/20: 100%|█████████████| 1563/1563 [1:16:58<00:00,  2.96s/it, loss=0.849]\n"
     ]
    },
    {
     "name": "stdout",
     "output_type": "stream",
     "text": [
      "Epoch 7/20, Loss: 1.0417, Test Accuracy: 79.39%\n"
     ]
    },
    {
     "name": "stderr",
     "output_type": "stream",
     "text": [
      "Epoch 8/20: 100%|███████████████| 1563/1563 [16:48<00:00,  1.55it/s, loss=0.862]\n"
     ]
    },
    {
     "name": "stdout",
     "output_type": "stream",
     "text": [
      "Epoch 8/20, Loss: 1.0150, Test Accuracy: 80.86%\n"
     ]
    },
    {
     "name": "stderr",
     "output_type": "stream",
     "text": [
      "Epoch 9/20: 100%|████████████████| 1563/1563 [17:21<00:00,  1.50it/s, loss=1.23]\n"
     ]
    },
    {
     "name": "stdout",
     "output_type": "stream",
     "text": [
      "Epoch 9/20, Loss: 1.0016, Test Accuracy: 81.44%\n"
     ]
    },
    {
     "name": "stderr",
     "output_type": "stream",
     "text": [
      "Epoch 10/20: 100%|███████████████| 1563/1563 [26:59<00:00,  1.04s/it, loss=1.38]\n"
     ]
    },
    {
     "name": "stdout",
     "output_type": "stream",
     "text": [
      "Epoch 10/20, Loss: 0.9830, Test Accuracy: 81.87%\n"
     ]
    },
    {
     "name": "stderr",
     "output_type": "stream",
     "text": [
      "Epoch 11/20: 100%|███████████████| 1563/1563 [11:30<00:00,  2.26it/s, loss=1.05]\n"
     ]
    },
    {
     "name": "stdout",
     "output_type": "stream",
     "text": [
      "Epoch 11/20, Loss: 0.9645, Test Accuracy: 82.51%\n"
     ]
    },
    {
     "name": "stderr",
     "output_type": "stream",
     "text": [
      "Epoch 12/20: 100%|███████████████| 1563/1563 [11:22<00:00,  2.29it/s, loss=1.59]\n"
     ]
    },
    {
     "name": "stdout",
     "output_type": "stream",
     "text": [
      "Epoch 12/20, Loss: 0.9481, Test Accuracy: 82.46%\n"
     ]
    },
    {
     "name": "stderr",
     "output_type": "stream",
     "text": [
      "Epoch 13/20: 100%|██████████████| 1563/1563 [11:21<00:00,  2.29it/s, loss=0.656]\n"
     ]
    },
    {
     "name": "stdout",
     "output_type": "stream",
     "text": [
      "Epoch 13/20, Loss: 0.9307, Test Accuracy: 83.12%\n"
     ]
    },
    {
     "name": "stderr",
     "output_type": "stream",
     "text": [
      "Epoch 14/20: 100%|███████████████| 1563/1563 [11:20<00:00,  2.30it/s, loss=1.07]\n"
     ]
    },
    {
     "name": "stdout",
     "output_type": "stream",
     "text": [
      "Epoch 14/20, Loss: 0.9148, Test Accuracy: 84.04%\n"
     ]
    },
    {
     "name": "stderr",
     "output_type": "stream",
     "text": [
      "Epoch 15/20: 100%|██████████████| 1563/1563 [11:23<00:00,  2.29it/s, loss=0.882]\n"
     ]
    },
    {
     "name": "stdout",
     "output_type": "stream",
     "text": [
      "Epoch 15/20, Loss: 0.8834, Test Accuracy: 83.92%\n"
     ]
    },
    {
     "name": "stderr",
     "output_type": "stream",
     "text": [
      "Epoch 16/20: 100%|███████████████| 1563/1563 [11:22<00:00,  2.29it/s, loss=1.03]\n"
     ]
    },
    {
     "name": "stdout",
     "output_type": "stream",
     "text": [
      "Epoch 16/20, Loss: 0.8825, Test Accuracy: 83.58%\n"
     ]
    },
    {
     "name": "stderr",
     "output_type": "stream",
     "text": [
      "Epoch 17/20: 100%|██████████████| 1563/1563 [11:21<00:00,  2.29it/s, loss=0.724]\n"
     ]
    },
    {
     "name": "stdout",
     "output_type": "stream",
     "text": [
      "Epoch 17/20, Loss: 0.8717, Test Accuracy: 83.69%\n"
     ]
    },
    {
     "name": "stderr",
     "output_type": "stream",
     "text": [
      "Epoch 18/20: 100%|██████████████| 1563/1563 [11:28<00:00,  2.27it/s, loss=0.327]\n"
     ]
    },
    {
     "name": "stdout",
     "output_type": "stream",
     "text": [
      "Epoch 18/20, Loss: 0.8699, Test Accuracy: 84.23%\n"
     ]
    },
    {
     "name": "stderr",
     "output_type": "stream",
     "text": [
      "Epoch 19/20: 100%|███████████████| 1563/1563 [11:27<00:00,  2.27it/s, loss=1.33]\n"
     ]
    },
    {
     "name": "stdout",
     "output_type": "stream",
     "text": [
      "Epoch 19/20, Loss: 0.8577, Test Accuracy: 84.08%\n"
     ]
    },
    {
     "name": "stderr",
     "output_type": "stream",
     "text": [
      "Epoch 20/20: 100%|██████████████| 1563/1563 [11:29<00:00,  2.27it/s, loss=0.703]\n"
     ]
    },
    {
     "name": "stdout",
     "output_type": "stream",
     "text": [
      "Epoch 20/20, Loss: 0.8646, Test Accuracy: 83.95%\n",
      "\n",
      "Stage 2: Fine-tuning - unfreezing ResNet layers\n"
     ]
    },
    {
     "name": "stderr",
     "output_type": "stream",
     "text": [
      "Epoch 1/6: 100%|████████████████| 1563/1563 [18:00<00:00,  1.45it/s, loss=0.709]\n"
     ]
    },
    {
     "name": "stdout",
     "output_type": "stream",
     "text": [
      "Epoch 1/6, Loss: 0.8637, Test Accuracy: 86.64%\n"
     ]
    },
    {
     "name": "stderr",
     "output_type": "stream",
     "text": [
      "Epoch 2/6: 100%|████████████████| 1563/1563 [17:55<00:00,  1.45it/s, loss=0.732]\n"
     ]
    },
    {
     "name": "stdout",
     "output_type": "stream",
     "text": [
      "Epoch 2/6, Loss: 0.7604, Test Accuracy: 88.24%\n"
     ]
    },
    {
     "name": "stderr",
     "output_type": "stream",
     "text": [
      "Epoch 3/6: 100%|████████████████| 1563/1563 [17:55<00:00,  1.45it/s, loss=0.753]\n"
     ]
    },
    {
     "name": "stdout",
     "output_type": "stream",
     "text": [
      "Epoch 3/6, Loss: 0.7072, Test Accuracy: 90.03%\n"
     ]
    },
    {
     "name": "stderr",
     "output_type": "stream",
     "text": [
      "Epoch 4/6: 100%|████████████████| 1563/1563 [17:57<00:00,  1.45it/s, loss=0.686]\n"
     ]
    },
    {
     "name": "stdout",
     "output_type": "stream",
     "text": [
      "Epoch 4/6, Loss: 0.6603, Test Accuracy: 90.91%\n"
     ]
    },
    {
     "name": "stderr",
     "output_type": "stream",
     "text": [
      "Epoch 5/6: 100%|████████████████| 1563/1563 [17:56<00:00,  1.45it/s, loss=0.489]\n"
     ]
    },
    {
     "name": "stdout",
     "output_type": "stream",
     "text": [
      "Epoch 5/6, Loss: 0.6298, Test Accuracy: 91.31%\n"
     ]
    },
    {
     "name": "stderr",
     "output_type": "stream",
     "text": [
      "Epoch 6/6: 100%|████████████████| 1563/1563 [17:56<00:00,  1.45it/s, loss=0.986]\n"
     ]
    },
    {
     "name": "stdout",
     "output_type": "stream",
     "text": [
      "Epoch 6/6, Loss: 0.6117, Test Accuracy: 91.41%\n"
     ]
    },
    {
     "data": {
      "image/png": "[encoded data removed]",
      "text/plain": [
       "<Figure size 1200x500 with 2 Axes>"
      ]
     },
     "metadata": {},
     "output_type": "display_data"
    },
    {
     "name": "stdout",
     "output_type": "stream",
     "text": [
      "Model saved successfully!\n"
     ]
    }
   ],
   "source": [
    "import torch\n",
    "import torch.nn as nn\n",
    "import torch.optim as optim\n",
    "from torch.utils.data import DataLoader\n",
    "import torchvision\n",
    "import torchvision.transforms as transforms\n",
    "from torchvision.models import resnet50, ResNet50_Weights\n",
    "import timm\n",
    "import matplotlib.pyplot as plt\n",
    "from tqdm import tqdm\n",
    "\n",
    "class ResNetDeiTHybrid(nn.Module):\n",
    "    def __init__(self, num_classes=10, freeze_resnet=True):\n",
    "        super(ResNetDeiTHybrid, self).__init__()\n",
    "\n",
    "        # Load pre-trained ResNet50 as feature extractor\n",
    "        self.resnet = resnet50(weights=ResNet50_Weights.IMAGENET1K_V2)\n",
    "\n",
    "        # Remove the classification head\n",
    "        self.feature_extractor = nn.Sequential(*list(self.resnet.children())[:-2])\n",
    "\n",
    "        # Freeze ResNet50 parameters if specified\n",
    "        if freeze_resnet:\n",
    "            for param in self.feature_extractor.parameters():\n",
    "                param.requires_grad = False\n",
    "\n",
    "        # Feature dimension after ResNet50 (2048)\n",
    "        feature_dim = 2048\n",
    "\n",
    "        # Dropout after ResNet\n",
    "        self.dropout = nn.Dropout(0.5)\n",
    "\n",
    "        # Add a projection layer to adjust dimensions for DeiT\n",
    "        self.projection = nn.Conv2d(feature_dim, 384, kernel_size=1)\n",
    "\n",
    "        # Load pre-trained DeiT-small as classifier\n",
    "        self.deit = timm.create_model('deit_small_patch16_224', pretrained=True)\n",
    "\n",
    "        # Reset positional embeddings for our specific feature map size\n",
    "        # ResNet50 outputs 7x7 feature maps for 224x224 input\n",
    "        with torch.no_grad():\n",
    "            new_pos_embed = nn.Parameter(torch.randn(1, 50, 384))  # 7x7 + 1 cls token\n",
    "            self.deit.pos_embed = new_pos_embed\n",
    "\n",
    "        # Replace DeiT's classification head with our own\n",
    "        self.deit.head = nn.Linear(384, num_classes)\n",
    "\n",
    "    def forward(self, x):\n",
    "        # Extract features using ResNet50\n",
    "        features = self.feature_extractor(x)  # Shape: [batch, 2048, 7, 7]\n",
    "\n",
    "        features = self.dropout(features)\n",
    "\n",
    "        # Project features to match DeiT embedding dimension\n",
    "        features = self.projection(features)  # Shape: [batch, 384, 7, 7]\n",
    "\n",
    "        # Reshape for transformer input\n",
    "        batch_size = features.shape[0]\n",
    "        features = features.flatten(2).transpose(1, 2)  # Shape: [batch, 49, 384]\n",
    "\n",
    "        # Add class token\n",
    "        cls_token = self.deit.cls_token.expand(batch_size, -1, -1)\n",
    "        features = torch.cat((cls_token, features), dim=1)  # Shape: [batch, 50, 384]\n",
    "\n",
    "        # Add positional embeddings\n",
    "        features = features + self.deit.pos_embed\n",
    "\n",
    "        # Pass through DeiT transformer blocks\n",
    "        features = self.deit.blocks(features)\n",
    "        features = self.deit.norm(features)\n",
    "\n",
    "        # Classification using the class token\n",
    "        return self.deit.head(features[:, 0])\n",
    "\n",
    "# Set device\n",
    "device = torch.device(\"mps\" if torch.backends.mps.is_built() else \"cpu\")\n",
    "print(f\"Using device: {device}\")\n",
    "\n",
    "# Data preparation\n",
    "def get_data_loaders(batch_size=32):\n",
    "    # Define transformations\n",
    "    transform_train = transforms.Compose([\n",
    "        transforms.RandomResizedCrop(224),\n",
    "        transforms.RandomHorizontalFlip(),\n",
    "        transforms.ToTensor(),\n",
    "        transforms.Normalize((0.485, 0.456, 0.406), (0.229, 0.224, 0.225))\n",
    "    ])\n",
    "\n",
    "    transform_test = transforms.Compose([\n",
    "        transforms.Resize(256),\n",
    "        transforms.CenterCrop(224),\n",
    "        transforms.ToTensor(),\n",
    "        transforms.Normalize((0.485, 0.456, 0.406), (0.229, 0.224, 0.225))\n",
    "    ])\n",
    "\n",
    "    # Load CIFAR-10 dataset\n",
    "    trainset = torchvision.datasets.CIFAR10(\n",
    "        root='./data', train=True, download=True, transform=transform_train)\n",
    "    testset = torchvision.datasets.CIFAR10(\n",
    "        root='./data', train=False, download=True, transform=transform_test)\n",
    "\n",
    "    # Create data loaders\n",
    "    trainloader = DataLoader(\n",
    "        trainset, batch_size=batch_size, shuffle=True, num_workers=2)\n",
    "    testloader = DataLoader(\n",
    "        testset, batch_size=batch_size, shuffle=False, num_workers=2)\n",
    "\n",
    "    return trainloader, testloader\n",
    "\n",
    "# Training function\n",
    "def train_model(model, trainloader, testloader, epochs=10, lr=0.0001):\n",
    "    model = model.to(device)\n",
    "\n",
    "    # Loss function and optimizer\n",
    "    criterion = nn.CrossEntropyLoss()\n",
    "\n",
    "    # Use different learning rates for different parts of the model\n",
    "    # Higher learning rate for the new parts, lower for pre-trained parts\n",
    "    params_to_update = [\n",
    "        {'params': model.projection.parameters(), 'lr': lr},\n",
    "        {'params': model.deit.head.parameters(), 'lr': lr},\n",
    "        {'params': model.deit.pos_embed, 'lr': lr}\n",
    "    ]\n",
    "\n",
    "    # Add DeiT transformer blocks with a lower learning rate if unfrozen\n",
    "    params_to_update.append({\n",
    "        'params': model.deit.blocks.parameters(),\n",
    "        'lr': lr / 10\n",
    "    })\n",
    "\n",
    "    optimizer = optim.AdamW(params_to_update, weight_decay=0.05)\n",
    "\n",
    "    # Learning rate scheduler\n",
    "    scheduler = optim.lr_scheduler.CosineAnnealingLR(optimizer, T_max=epochs)\n",
    "\n",
    "    # Training loop\n",
    "    train_losses = []\n",
    "    test_accuracies = []\n",
    "\n",
    "    for epoch in range(epochs):\n",
    "        model.train()\n",
    "        running_loss = 0.0\n",
    "\n",
    "        # Progress bar for training\n",
    "        pbar = tqdm(trainloader, desc=f'Epoch {epoch+1}/{epochs}')\n",
    "\n",
    "        for inputs, labels in pbar:\n",
    "            inputs, labels = inputs.to(device), labels.to(device)\n",
    "\n",
    "            # Zero the parameter gradients\n",
    "            optimizer.zero_grad()\n",
    "\n",
    "            # Forward pass\n",
    "            outputs = model(inputs)\n",
    "            loss = criterion(outputs, labels)\n",
    "\n",
    "            # Backward and optimize\n",
    "            loss.backward()\n",
    "            optimizer.step()\n",
    "\n",
    "            # Update statistics\n",
    "            running_loss += loss.item()\n",
    "            pbar.set_postfix({'loss': loss.item()})\n",
    "\n",
    "        epoch_loss = running_loss / len(trainloader)\n",
    "        train_losses.append(epoch_loss)\n",
    "\n",
    "        # Evaluate on test set\n",
    "        test_accuracy = evaluate_model(model, testloader)\n",
    "        test_accuracies.append(test_accuracy)\n",
    "\n",
    "        print(f'Epoch {epoch+1}/{epochs}, Loss: {epoch_loss:.4f}, '\n",
    "              f'Test Accuracy: {test_accuracy:.2f}%')\n",
    "\n",
    "        # Update learning rate\n",
    "        scheduler.step()\n",
    "\n",
    "    # Stage 2: Fine-tuning - unfreeze ResNet and train with smaller learning rate\n",
    "    print(\"\\nStage 2: Fine-tuning - unfreezing ResNet layers\")\n",
    "    # Unfreeze ResNet (last two layers only for efficiency)\n",
    "    for name, param in model.resnet.named_parameters():\n",
    "        if \"layer4\" in name or \"layer3\" in name:\n",
    "            param.requires_grad = True\n",
    "\n",
    "    # Lower learning rate for fine-tuning\n",
    "    optimizer = optim.AdamW([\n",
    "        {'params': model.deit.parameters(), 'lr': lr/10},\n",
    "        {'params': model.resnet.parameters(), 'lr': lr/100}\n",
    "    ], weight_decay=1e-4)\n",
    "\n",
    "    # Fine-tuning for fewer epochs\n",
    "    fine_tune_epochs = max(3, epochs // 3)\n",
    "    scheduler = optim.lr_scheduler.CosineAnnealingLR(optimizer, T_max=fine_tune_epochs)\n",
    "\n",
    "    for epoch in range(fine_tune_epochs):\n",
    "        model.train()\n",
    "        running_loss = 0.0\n",
    "\n",
    "        # Progress bar for training\n",
    "        pbar = tqdm(trainloader, desc=f'Epoch {epoch+1}/{fine_tune_epochs}')\n",
    "\n",
    "        for inputs, labels in pbar:\n",
    "            inputs, labels = inputs.to(device), labels.to(device)\n",
    "\n",
    "            # Zero the parameter gradients\n",
    "            optimizer.zero_grad()\n",
    "\n",
    "            # Forward pass\n",
    "            outputs = model(inputs)\n",
    "            loss = criterion(outputs, labels)\n",
    "\n",
    "            # Backward and optimize\n",
    "            loss.backward()\n",
    "            optimizer.step()\n",
    "\n",
    "            # Update statistics\n",
    "            running_loss += loss.item()\n",
    "            pbar.set_postfix({'loss': loss.item()})\n",
    "\n",
    "        epoch_loss = running_loss / len(trainloader)\n",
    "        train_losses.append(epoch_loss)\n",
    "\n",
    "        # Evaluate on test set\n",
    "        test_accuracy = evaluate_model(model, testloader)\n",
    "        test_accuracies.append(test_accuracy)\n",
    "\n",
    "        print(f'Epoch {epoch+1}/{fine_tune_epochs}, Loss: {epoch_loss:.4f}, '\n",
    "              f'Test Accuracy: {test_accuracy:.2f}%')\n",
    "\n",
    "        # Update learning rate\n",
    "        scheduler.step()\n",
    "\n",
    "\n",
    "    # Plot training curves\n",
    "    plot_training_curves(train_losses, test_accuracies, epochs + fine_tune_epochs)\n",
    "\n",
    "    return model\n",
    "\n",
    "# Evaluation function\n",
    "def evaluate_model(model, dataloader):\n",
    "    model.eval()\n",
    "    correct = 0\n",
    "    total = 0\n",
    "\n",
    "    with torch.no_grad():\n",
    "        for inputs, labels in dataloader:\n",
    "            inputs, labels = inputs.to(device), labels.to(device)\n",
    "            outputs = model(inputs)\n",
    "            _, predicted = torch.max(outputs.data, 1)\n",
    "            total += labels.size(0)\n",
    "            correct += (predicted == labels).sum().item()\n",
    "\n",
    "    accuracy = 100 * correct / total\n",
    "    return accuracy\n",
    "\n",
    "# Function to plot training curves\n",
    "def plot_training_curves(train_losses, test_accuracies, epochs):\n",
    "    plt.figure(figsize=(12, 5))\n",
    "\n",
    "    plt.subplot(1, 2, 1)\n",
    "    plt.plot(range(1, epochs+1), train_losses)\n",
    "    plt.title('Training Loss')\n",
    "    plt.xlabel('Epoch')\n",
    "    plt.ylabel('Loss')\n",
    "\n",
    "    plt.subplot(1, 2, 2)\n",
    "    plt.plot(range(1, epochs+1), test_accuracies)\n",
    "    plt.title('Test Accuracy')\n",
    "    plt.xlabel('Epoch')\n",
    "    plt.ylabel('Accuracy (%)')\n",
    "\n",
    "    plt.tight_layout()\n",
    "    plt.savefig('training_curves.png')\n",
    "    plt.show()\n",
    "\n",
    "# Main function\n",
    "def main():\n",
    "    # Hyperparameters\n",
    "    batch_size = 32\n",
    "    epochs = 20\n",
    "    learning_rate = 0.001\n",
    "    num_classes = 10  # CIFAR-10 has 10 classes\n",
    "\n",
    "    # Load data\n",
    "    trainloader, testloader = get_data_loaders(batch_size)\n",
    "\n",
    "    # Create model\n",
    "    model = ResNetDeiTHybrid(num_classes=num_classes, freeze_resnet=True)\n",
    "\n",
    "    # Train model\n",
    "    trained_model = train_model(\n",
    "        model, trainloader, testloader, epochs=epochs, lr=learning_rate)\n",
    "\n",
    "    # Save model\n",
    "    torch.save(trained_model.state_dict(), 'resnet50_deit_hybrid.pth')\n",
    "    print(\"Model saved successfully!\")\n",
    "\n",
    "if __name__ == \"__main__\":\n",
    "    main()"
   ]
  },
  {
   "cell_type": "code",
   "execution_count": null,
   "metadata": {},
   "outputs": [],
   "source": []
  },
  {
   "cell_type": "code",
   "execution_count": 2,
   "metadata": {},
   "outputs": [],
   "source": [
    "# device = torch.device(\"mps\" if torch.backends.mps.is_built() else \"cpu\")\n",
    "# print(f\"Using device: {device}\")"
   ]
  },
  {
   "cell_type": "code",
   "execution_count": null,
   "metadata": {},
   "outputs": [],
   "source": []
  }
 ],
 "metadata": {
  "accelerator": "GPU",
  "colab": {
   "gpuType": "T4",
   "provenance": []
  },
  "kernelspec": {
   "display_name": "Python 3 (ipykernel)",
   "language": "python",
   "name": "python3"
  },
  "language_info": {
   "codemirror_mode": {
    "name": "ipython",
    "version": 3
   },
   "file_extension": ".py",
   "mimetype": "text/x-python",
   "name": "python",
   "nbconvert_exporter": "python",
   "pygments_lexer": "ipython3",
   "version": "3.9.21"
  },
  "widgets": {
   "application/vnd.jupyter.widget-state+json": {
    "0082362eefaf438198bb7ac7ae2c11ce": {
     "model_module": "@jupyter-widgets/controls",
     "model_module_version": "1.5.0",
     "model_name": "HTMLModel",
     "state": {
      "_dom_classes": [],
      "_model_module": "@jupyter-widgets/controls",
      "_model_module_version": "1.5.0",
      "_model_name": "HTMLModel",
      "_view_count": null,
      "_view_module": "@jupyter-widgets/controls",
      "_view_module_version": "1.5.0",
      "_view_name": "HTMLView",
      "description": "",
      "description_tooltip": null,
      "layout": "IPY_MODEL_1e8fc5594eac4c96adeae73dbe861f79",
      "placeholder": "​",
      "style": "IPY_MODEL_0e8a5fe7a8e84a108193f02025378c77",
      "value": "model.safetensors: 100%"
     }
    },
    "00faa3fe32134c5e9c25b5b992ed4232": {
     "model_module": "@jupyter-widgets/controls",
     "model_module_version": "1.5.0",
     "model_name": "DescriptionStyleModel",
     "state": {
      "_model_module": "@jupyter-widgets/controls",
      "_model_module_version": "1.5.0",
      "_model_name": "DescriptionStyleModel",
      "_view_count": null,
      "_view_module": "@jupyter-widgets/base",
      "_view_module_version": "1.2.0",
      "_view_name": "StyleView",
      "description_width": ""
     }
    },
    "0e8a5fe7a8e84a108193f02025378c77": {
     "model_module": "@jupyter-widgets/controls",
     "model_module_version": "1.5.0",
     "model_name": "DescriptionStyleModel",
     "state": {
      "_model_module": "@jupyter-widgets/controls",
      "_model_module_version": "1.5.0",
      "_model_name": "DescriptionStyleModel",
      "_view_count": null,
      "_view_module": "@jupyter-widgets/base",
      "_view_module_version": "1.2.0",
      "_view_name": "StyleView",
      "description_width": ""
     }
    },
    "1e8fc5594eac4c96adeae73dbe861f79": {
     "model_module": "@jupyter-widgets/base",
     "model_module_version": "1.2.0",
     "model_name": "LayoutModel",
     "state": {
      "_model_module": "@jupyter-widgets/base",
      "_model_module_version": "1.2.0",
      "_model_name": "LayoutModel",
      "_view_count": null,
      "_view_module": "@jupyter-widgets/base",
      "_view_module_version": "1.2.0",
      "_view_name": "LayoutView",
      "align_content": null,
      "align_items": null,
      "align_self": null,
      "border": null,
      "bottom": null,
      "display": null,
      "flex": null,
      "flex_flow": null,
      "grid_area": null,
      "grid_auto_columns": null,
      "grid_auto_flow": null,
      "grid_auto_rows": null,
      "grid_column": null,
      "grid_gap": null,
      "grid_row": null,
      "grid_template_areas": null,
      "grid_template_columns": null,
      "grid_template_rows": null,
      "height": null,
      "justify_content": null,
      "justify_items": null,
      "left": null,
      "margin": null,
      "max_height": null,
      "max_width": null,
      "min_height": null,
      "min_width": null,
      "object_fit": null,
      "object_position": null,
      "order": null,
      "overflow": null,
      "overflow_x": null,
      "overflow_y": null,
      "padding": null,
      "right": null,
      "top": null,
      "visibility": null,
      "width": null
     }
    },
    "2510d876abc34630971d4cc0bf3c9703": {
     "model_module": "@jupyter-widgets/controls",
     "model_module_version": "1.5.0",
     "model_name": "FloatProgressModel",
     "state": {
      "_dom_classes": [],
      "_model_module": "@jupyter-widgets/controls",
      "_model_module_version": "1.5.0",
      "_model_name": "FloatProgressModel",
      "_view_count": null,
      "_view_module": "@jupyter-widgets/controls",
      "_view_module_version": "1.5.0",
      "_view_name": "ProgressView",
      "bar_style": "success",
      "description": "",
      "description_tooltip": null,
      "layout": "IPY_MODEL_8866c2b7c65a4bb58d3aeda90bd26a6f",
      "max": 88216496,
      "min": 0,
      "orientation": "horizontal",
      "style": "IPY_MODEL_4f249363fc3d45f18ebb0222c1a4c5b6",
      "value": 88216496
     }
    },
    "2d9233759c734507b5b19936abff3c8c": {
     "model_module": "@jupyter-widgets/base",
     "model_module_version": "1.2.0",
     "model_name": "LayoutModel",
     "state": {
      "_model_module": "@jupyter-widgets/base",
      "_model_module_version": "1.2.0",
      "_model_name": "LayoutModel",
      "_view_count": null,
      "_view_module": "@jupyter-widgets/base",
      "_view_module_version": "1.2.0",
      "_view_name": "LayoutView",
      "align_content": null,
      "align_items": null,
      "align_self": null,
      "border": null,
      "bottom": null,
      "display": null,
      "flex": null,
      "flex_flow": null,
      "grid_area": null,
      "grid_auto_columns": null,
      "grid_auto_flow": null,
      "grid_auto_rows": null,
      "grid_column": null,
      "grid_gap": null,
      "grid_row": null,
      "grid_template_areas": null,
      "grid_template_columns": null,
      "grid_template_rows": null,
      "height": null,
      "justify_content": null,
      "justify_items": null,
      "left": null,
      "margin": null,
      "max_height": null,
      "max_width": null,
      "min_height": null,
      "min_width": null,
      "object_fit": null,
      "object_position": null,
      "order": null,
      "overflow": null,
      "overflow_x": null,
      "overflow_y": null,
      "padding": null,
      "right": null,
      "top": null,
      "visibility": null,
      "width": null
     }
    },
    "4f249363fc3d45f18ebb0222c1a4c5b6": {
     "model_module": "@jupyter-widgets/controls",
     "model_module_version": "1.5.0",
     "model_name": "ProgressStyleModel",
     "state": {
      "_model_module": "@jupyter-widgets/controls",
      "_model_module_version": "1.5.0",
      "_model_name": "ProgressStyleModel",
      "_view_count": null,
      "_view_module": "@jupyter-widgets/base",
      "_view_module_version": "1.2.0",
      "_view_name": "StyleView",
      "bar_color": null,
      "description_width": ""
     }
    },
    "8866c2b7c65a4bb58d3aeda90bd26a6f": {
     "model_module": "@jupyter-widgets/base",
     "model_module_version": "1.2.0",
     "model_name": "LayoutModel",
     "state": {
      "_model_module": "@jupyter-widgets/base",
      "_model_module_version": "1.2.0",
      "_model_name": "LayoutModel",
      "_view_count": null,
      "_view_module": "@jupyter-widgets/base",
      "_view_module_version": "1.2.0",
      "_view_name": "LayoutView",
      "align_content": null,
      "align_items": null,
      "align_self": null,
      "border": null,
      "bottom": null,
      "display": null,
      "flex": null,
      "flex_flow": null,
      "grid_area": null,
      "grid_auto_columns": null,
      "grid_auto_flow": null,
      "grid_auto_rows": null,
      "grid_column": null,
      "grid_gap": null,
      "grid_row": null,
      "grid_template_areas": null,
      "grid_template_columns": null,
      "grid_template_rows": null,
      "height": null,
      "justify_content": null,
      "justify_items": null,
      "left": null,
      "margin": null,
      "max_height": null,
      "max_width": null,
      "min_height": null,
      "min_width": null,
      "object_fit": null,
      "object_position": null,
      "order": null,
      "overflow": null,
      "overflow_x": null,
      "overflow_y": null,
      "padding": null,
      "right": null,
      "top": null,
      "visibility": null,
      "width": null
     }
    },
    "8de59a9604e641ca97181a6637a9b63a": {
     "model_module": "@jupyter-widgets/base",
     "model_module_version": "1.2.0",
     "model_name": "LayoutModel",
     "state": {
      "_model_module": "@jupyter-widgets/base",
      "_model_module_version": "1.2.0",
      "_model_name": "LayoutModel",
      "_view_count": null,
      "_view_module": "@jupyter-widgets/base",
      "_view_module_version": "1.2.0",
      "_view_name": "LayoutView",
      "align_content": null,
      "align_items": null,
      "align_self": null,
      "border": null,
      "bottom": null,
      "display": null,
      "flex": null,
      "flex_flow": null,
      "grid_area": null,
      "grid_auto_columns": null,
      "grid_auto_flow": null,
      "grid_auto_rows": null,
      "grid_column": null,
      "grid_gap": null,
      "grid_row": null,
      "grid_template_areas": null,
      "grid_template_columns": null,
      "grid_template_rows": null,
      "height": null,
      "justify_content": null,
      "justify_items": null,
      "left": null,
      "margin": null,
      "max_height": null,
      "max_width": null,
      "min_height": null,
      "min_width": null,
      "object_fit": null,
      "object_position": null,
      "order": null,
      "overflow": null,
      "overflow_x": null,
      "overflow_y": null,
      "padding": null,
      "right": null,
      "top": null,
      "visibility": null,
      "width": null
     }
    },
    "a731e05af5fc4bdfa63a64e2fb0b77cf": {
     "model_module": "@jupyter-widgets/controls",
     "model_module_version": "1.5.0",
     "model_name": "HBoxModel",
     "state": {
      "_dom_classes": [],
      "_model_module": "@jupyter-widgets/controls",
      "_model_module_version": "1.5.0",
      "_model_name": "HBoxModel",
      "_view_count": null,
      "_view_module": "@jupyter-widgets/controls",
      "_view_module_version": "1.5.0",
      "_view_name": "HBoxView",
      "box_style": "",
      "children": [
       "IPY_MODEL_0082362eefaf438198bb7ac7ae2c11ce",
       "IPY_MODEL_2510d876abc34630971d4cc0bf3c9703",
       "IPY_MODEL_bfaf8bcfed584e54a477e0ad8f0a1120"
      ],
      "layout": "IPY_MODEL_8de59a9604e641ca97181a6637a9b63a"
     }
    },
    "bfaf8bcfed584e54a477e0ad8f0a1120": {
     "model_module": "@jupyter-widgets/controls",
     "model_module_version": "1.5.0",
     "model_name": "HTMLModel",
     "state": {
      "_dom_classes": [],
      "_model_module": "@jupyter-widgets/controls",
      "_model_module_version": "1.5.0",
      "_model_name": "HTMLModel",
      "_view_count": null,
      "_view_module": "@jupyter-widgets/controls",
      "_view_module_version": "1.5.0",
      "_view_name": "HTMLView",
      "description": "",
      "description_tooltip": null,
      "layout": "IPY_MODEL_2d9233759c734507b5b19936abff3c8c",
      "placeholder": "​",
      "style": "IPY_MODEL_00faa3fe32134c5e9c25b5b992ed4232",
      "value": " 88.2M/88.2M [00:00&lt;00:00, 200MB/s]"
     }
    }
   }
  }
 },
 "nbformat": 4,
 "nbformat_minor": 4
}
