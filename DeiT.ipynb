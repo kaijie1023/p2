{
 "cells": [
  {
   "cell_type": "code",
   "execution_count": 5,
   "metadata": {
    "id": "lf_pKNKpRvSO"
   },
   "outputs": [],
   "source": [
    "import timm\n",
    "import torch\n",
    "import torch.nn as nn\n",
    "import torch.optim as optim\n",
    "from torchvision import datasets, transforms\n",
    "from torch.utils.data import DataLoader\n",
    "\n",
    "from config import *\n",
    "\n",
    "# Define the model (DeiT base)\n",
    "model = timm.create_model(\"deit_base_patch16_224\", pretrained=True, num_classes=num_classes)  # Change num_classes based on dataset\n",
    "model = model.to(\"cuda\" if torch.cuda.is_available() else \"cpu\")\n"
   ]
  },
  {
   "cell_type": "code",
   "execution_count": null,
   "metadata": {},
   "outputs": [],
   "source": []
  },
  {
   "cell_type": "code",
   "execution_count": null,
   "metadata": {},
   "outputs": [],
   "source": []
  },
  {
   "cell_type": "code",
   "execution_count": null,
   "metadata": {},
   "outputs": [],
   "source": []
  },
  {
   "cell_type": "code",
   "execution_count": null,
   "metadata": {},
   "outputs": [],
   "source": []
  },
  {
   "cell_type": "code",
   "execution_count": null,
   "metadata": {
    "id": "SNcyPFZp9SNB"
   },
   "outputs": [],
   "source": [
    "# Configurations\n",
    "device = torch.device(\"cuda\" if torch.cuda.is_available() else \"cpu\")\n",
    "num_classes = 3\n",
    "num_epochs = 125\n",
    "batch_size = 32\n",
    "learning_rate = 1e-4\n",
    "# learning_rate = 3e-6\n",
    "dropout_rate = 0.5\n",
    "# dropout_rate = 0.2\n",
    "# weight_decay = 1e-3\n",
    "weight_decay = 1e-4\n",
    "model_name = \"resnet\"  # Choose from 'vgg', 'resnet', 'densenet'"
   ]
  },
  {
   "cell_type": "code",
   "execution_count": null,
   "metadata": {
    "colab": {
     "base_uri": "https://localhost:8080/"
    },
    "id": "LRmBTFUzSVa9",
    "outputId": "71135724-af8d-4bd6-972f-e5951d9b7c64"
   },
   "outputs": [
    {
     "name": "stdout",
     "output_type": "stream",
     "text": [
      "Training set label distribution: [285 394 388]\n",
      "Validation set label distribution: [41 56 56]\n",
      "Testing set label distribution: [ 81 113 111]\n",
      "torch.Size([32, 3, 224, 224]) tensor([2, 1, 1, 0, 0, 1, 1, 1, 1, 0, 1, 1, 1, 1, 0, 2, 1, 0, 1, 2, 1, 2, 1, 1,\n",
      "        2, 2, 2, 0, 0, 0, 2, 0])\n"
     ]
    }
   ],
   "source": [
    "# Define transformations for training and validation\n",
    "transform = transforms.Compose([\n",
    "    transforms.Resize((224, 224)),  # DeiT requires 224x224 input\n",
    "    transforms.ToTensor(),\n",
    "    transforms.Normalize(mean=[0.5, 0.5, 0.5], std=[0.5, 0.5, 0.5])\n",
    "])\n",
    "\n",
    "\n",
    "import torchvision.datasets as datasets\n",
    "from torch.utils.data import DataLoader, Subset\n",
    "from sklearn.model_selection import StratifiedShuffleSplit\n",
    "import numpy as np\n",
    "\n",
    "\n",
    "# Load the dataset\n",
    "data_dir = 'data'\n",
    "dataset = datasets.ImageFolder(root=data_dir, transform=transform)\n",
    "\n",
    "# Get labels\n",
    "targets = np.array(dataset.targets)\n",
    "\n",
    "# Set split ratio and seed for reproducibility\n",
    "train_ratio = 0.7\n",
    "val_ratio = 0.1\n",
    "test_ratio = 0.2\n",
    "random_seed = 42\n",
    "\n",
    "# Split train validation and test\n",
    "strat_split = StratifiedShuffleSplit(n_splits=1, test_size=test_ratio, random_state=random_seed)\n",
    "\n",
    "# Get train val and test indices\n",
    "for train_val_index, test_index in strat_split.split(np.zeros(len(targets)), targets):\n",
    "    train_val_indices = train_val_index\n",
    "    test_indices = test_index\n",
    "\n",
    "\n",
    "\n",
    "# Split train and validation\n",
    "train_val_targets = targets[train_val_indices]\n",
    "strat_split = StratifiedShuffleSplit(n_splits=1, test_size=val_ratio / (1 - test_ratio), random_state=random_seed)\n",
    "\n",
    "for train_index, val_index in strat_split.split(np.zeros(len(train_val_targets)), train_val_targets):\n",
    "    train_indices = train_val_indices[train_index]\n",
    "    val_indices = train_val_indices[val_index]\n",
    "\n",
    "\n",
    "# Create subsets\n",
    "train_dataset = Subset(dataset, train_indices)\n",
    "val_dataset = Subset(dataset, val_indices)\n",
    "test_dataset = Subset(dataset, test_indices)\n",
    "\n",
    "train_loader = DataLoader(dataset=train_dataset, batch_size=batch_size, shuffle=True)\n",
    "val_loader = DataLoader(dataset=val_dataset, batch_size=batch_size, shuffle=False)\n",
    "test_loader = DataLoader(dataset=test_dataset, batch_size=batch_size, shuffle=False)\n",
    "\n",
    "\n",
    "# Check the distribution of labels\n",
    "train_labels = [targets[i] for i in train_indices]\n",
    "val_labels = [targets[i] for i in val_indices]\n",
    "test_labels = [targets[i] for i in test_indices]\n",
    "\n",
    "print(\"Training set label distribution:\", np.bincount(train_labels))\n",
    "print(\"Validation set label distribution:\", np.bincount(val_labels))\n",
    "print(\"Testing set label distribution:\", np.bincount(test_labels))\n",
    "\n",
    "\n",
    "# Display the first batch\n",
    "for images, labels in train_loader:\n",
    "    print(images.shape, labels)\n",
    "    break\n"
   ]
  },
  {
   "cell_type": "code",
   "execution_count": null,
   "metadata": {
    "id": "t0rRKeT7SXKM"
   },
   "outputs": [],
   "source": [
    "# Loss function and optimizer\n",
    "criterion = nn.CrossEntropyLoss()\n",
    "optimizer = optim.AdamW(model.parameters(), lr=5e-5, weight_decay=1e-4)\n"
   ]
  },
  {
   "cell_type": "code",
   "execution_count": null,
   "metadata": {
    "id": "SGFBzLcPBFwE"
   },
   "outputs": [],
   "source": [
    "def evaluate(model, dataloader, criterion):\n",
    "    model.eval()\n",
    "    val_loss = 0.0\n",
    "    correct = 0\n",
    "    total = 0\n",
    "\n",
    "    with torch.no_grad():\n",
    "        for inputs, labels in dataloader:\n",
    "            inputs, labels = inputs.to(device), labels.to(device)\n",
    "            outputs = model(inputs)\n",
    "            loss = criterion(outputs, labels)\n",
    "            val_loss += loss.item()\n",
    "\n",
    "            _, predicted = torch.max(outputs, 1)\n",
    "            total += labels.size(0)\n",
    "            correct += (predicted == labels).sum().item()\n",
    "\n",
    "    val_loss /= len(dataloader)\n",
    "    accuracy = 100 * correct / total\n",
    "    return val_loss, accuracy\n"
   ]
  },
  {
   "cell_type": "code",
   "execution_count": null,
   "metadata": {
    "colab": {
     "base_uri": "https://localhost:8080/"
    },
    "id": "GTrBNqdvSYWm",
    "outputId": "81f06e11-1b2e-4c5c-a55e-8675931b0e66"
   },
   "outputs": [
    {
     "name": "stdout",
     "output_type": "stream",
     "text": [
      "Epoch 1/10, Train Loss: 0.2639, Val Loss: 0.1945, Val Accuracy: 92.81%\n",
      "Epoch 2/10, Train Loss: 0.0686, Val Loss: 0.1499, Val Accuracy: 93.46%\n",
      "Epoch 3/10, Train Loss: 0.0211, Val Loss: 0.1355, Val Accuracy: 94.77%\n",
      "Epoch 4/10, Train Loss: 0.0228, Val Loss: 0.3278, Val Accuracy: 92.16%\n",
      "Epoch 5/10, Train Loss: 0.0128, Val Loss: 0.1555, Val Accuracy: 94.77%\n",
      "Epoch 6/10, Train Loss: 0.0023, Val Loss: 0.2011, Val Accuracy: 93.46%\n",
      "Epoch 7/10, Train Loss: 0.0012, Val Loss: 0.1729, Val Accuracy: 94.12%\n",
      "Epoch 8/10, Train Loss: 0.0009, Val Loss: 0.1763, Val Accuracy: 94.12%\n",
      "Epoch 9/10, Train Loss: 0.0007, Val Loss: 0.1773, Val Accuracy: 94.12%\n",
      "Epoch 10/10, Train Loss: 0.0006, Val Loss: 0.1816, Val Accuracy: 93.46%\n",
      "Training complete!\n"
     ]
    }
   ],
   "source": [
    "num_epochs = 10\n",
    "device = \"cuda\" if torch.cuda.is_available() else \"cpu\"\n",
    "\n",
    "for epoch in range(num_epochs):\n",
    "    model.train()\n",
    "    running_loss = 0\n",
    "\n",
    "    for images, labels in train_loader:\n",
    "        images, labels = images.to(device), labels.to(device)\n",
    "\n",
    "        optimizer.zero_grad()\n",
    "        outputs = model(images)\n",
    "        loss = criterion(outputs, labels)\n",
    "        loss.backward()\n",
    "        optimizer.step()\n",
    "\n",
    "        running_loss += loss.item()\n",
    "\n",
    "    train_loss = running_loss / len(train_loader)\n",
    "    # print(f\"Epoch {epoch+1}/{num_epochs}, Loss: {avg_loss:.4f}\")\n",
    "    val_loss, val_accuracy = evaluate(model, val_loader, criterion)\n",
    "    print(f\"Epoch {epoch+1}/{num_epochs}, Train Loss: {train_loss:.4f}, \"\n",
    "          f\"Val Loss: {val_loss:.4f}, Val Accuracy: {val_accuracy:.2f}%\")\n",
    "\n",
    "print(\"Training complete!\")\n"
   ]
  },
  {
   "cell_type": "code",
   "execution_count": null,
   "metadata": {
    "colab": {
     "base_uri": "https://localhost:8080/"
    },
    "id": "pQtgVA9WSZPR",
    "outputId": "a4e886db-945b-4416-d1c5-09f5e3ea4139"
   },
   "outputs": [
    {
     "name": "stdout",
     "output_type": "stream",
     "text": [
      "Validation Accuracy: 93.46%\n"
     ]
    }
   ],
   "source": [
    "model.eval()\n",
    "correct = 0\n",
    "total = 0\n",
    "\n",
    "with torch.no_grad():\n",
    "    for images, labels in val_loader:\n",
    "        images, labels = images.to(device), labels.to(device)\n",
    "        outputs = model(images)\n",
    "        _, predicted = torch.max(outputs, 1)\n",
    "        correct += (predicted == labels).sum().item()\n",
    "        total += labels.size(0)\n",
    "\n",
    "accuracy = 100 * correct / total\n",
    "print(f\"Validation Accuracy: {accuracy:.2f}%\")\n"
   ]
  },
  {
   "cell_type": "code",
   "execution_count": null,
   "metadata": {
    "id": "lj5jhOAf9Fyd"
   },
   "outputs": [],
   "source": []
  }
 ],
 "metadata": {
  "accelerator": "GPU",
  "colab": {
   "gpuType": "T4",
   "provenance": []
  },
  "kernelspec": {
   "display_name": "Python 3 (ipykernel)",
   "language": "python",
   "name": "python3"
  },
  "language_info": {
   "codemirror_mode": {
    "name": "ipython",
    "version": 3
   },
   "file_extension": ".py",
   "mimetype": "text/x-python",
   "name": "python",
   "nbconvert_exporter": "python",
   "pygments_lexer": "ipython3",
   "version": "3.9.21"
  }
 },
 "nbformat": 4,
 "nbformat_minor": 4
}
